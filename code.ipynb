{
 "cells": [
  {
   "cell_type": "markdown",
   "id": "96b816cb",
   "metadata": {},
   "source": [
    "# DSA 210\n",
    "## Breaking the Myth: A Data-Driven Perspective of Immigration’s Impact on Criminal Activity "
   ]
  },
  {
   "cell_type": "markdown",
   "id": "5e792f76",
   "metadata": {},
   "source": [
    "## Part 1: Preliminary Analysis\n",
    "CONTENT\n",
    "1) [Data Import](#1.-Data-Import)\n",
    "2) [Data Pre-Processing](#2.-Data-Pre-Proceesing)\n",
    "3) [Exploratory Data Analysis (EDA)](#3.-Exploratory-Data-Analysis)\n",
    "4) Hypothesis Testing"
   ]
  },
  {
   "cell_type": "markdown",
   "id": "bd4ba4c3",
   "metadata": {},
   "source": [
    "### 1. Data Import"
   ]
  },
  {
   "cell_type": "code",
   "execution_count": 1,
   "id": "3cc5cf12",
   "metadata": {},
   "outputs": [],
   "source": [
    "import pandas as pd\n",
    "\n",
    "#Load CSV files\n",
    "immigration_df=pd.read_excel('immigration_data.xlsx')\n",
    "crime_df=pd.read_csv('crime_data.csv', delimiter=';')"
   ]
  },
  {
   "cell_type": "markdown",
   "id": "f4dabdac",
   "metadata": {},
   "source": [
    "### 2. Data Pre-Processing"
   ]
  },
  {
   "cell_type": "code",
   "execution_count": 2,
   "id": "44b0c44b",
   "metadata": {},
   "outputs": [
    {
     "data": {
      "text/html": [
       "<div>\n",
       "<style scoped>\n",
       "    .dataframe tbody tr th:only-of-type {\n",
       "        vertical-align: middle;\n",
       "    }\n",
       "\n",
       "    .dataframe tbody tr th {\n",
       "        vertical-align: top;\n",
       "    }\n",
       "\n",
       "    .dataframe thead th {\n",
       "        text-align: right;\n",
       "    }\n",
       "</style>\n",
       "<table border=\"1\" class=\"dataframe\">\n",
       "  <thead>\n",
       "    <tr style=\"text-align: right;\">\n",
       "      <th></th>\n",
       "      <th>Country</th>\n",
       "      <th>Immigration_percentage</th>\n",
       "    </tr>\n",
       "  </thead>\n",
       "  <tbody>\n",
       "    <tr>\n",
       "      <th>0</th>\n",
       "      <td>AFRICA</td>\n",
       "      <td>1.9</td>\n",
       "    </tr>\n",
       "    <tr>\n",
       "      <th>1</th>\n",
       "      <td>Eastern Africa</td>\n",
       "      <td>1.7</td>\n",
       "    </tr>\n",
       "    <tr>\n",
       "      <th>2</th>\n",
       "      <td>Burundi</td>\n",
       "      <td>2.8</td>\n",
       "    </tr>\n",
       "  </tbody>\n",
       "</table>\n",
       "</div>"
      ],
      "text/plain": [
       "          Country  Immigration_percentage\n",
       "0          AFRICA                     1.9\n",
       "1  Eastern Africa                     1.7\n",
       "2         Burundi                     2.8"
      ]
     },
     "execution_count": 2,
     "metadata": {},
     "output_type": "execute_result"
    }
   ],
   "source": [
    "immigration_df.head(3)"
   ]
  },
  {
   "cell_type": "code",
   "execution_count": 3,
   "id": "1627b78f",
   "metadata": {},
   "outputs": [
    {
     "data": {
      "text/html": [
       "<div>\n",
       "<style scoped>\n",
       "    .dataframe tbody tr th:only-of-type {\n",
       "        vertical-align: middle;\n",
       "    }\n",
       "\n",
       "    .dataframe tbody tr th {\n",
       "        vertical-align: top;\n",
       "    }\n",
       "\n",
       "    .dataframe thead th {\n",
       "        text-align: right;\n",
       "    }\n",
       "</style>\n",
       "<table border=\"1\" class=\"dataframe\">\n",
       "  <thead>\n",
       "    <tr style=\"text-align: right;\">\n",
       "      <th></th>\n",
       "      <th>flagCode</th>\n",
       "      <th>Country</th>\n",
       "      <th>Crime_Rate</th>\n",
       "      <th>Safety</th>\n",
       "    </tr>\n",
       "  </thead>\n",
       "  <tbody>\n",
       "    <tr>\n",
       "      <th>0</th>\n",
       "      <td>VE</td>\n",
       "      <td>Venezuela</td>\n",
       "      <td>81.2</td>\n",
       "      <td>18.8</td>\n",
       "    </tr>\n",
       "    <tr>\n",
       "      <th>1</th>\n",
       "      <td>PG</td>\n",
       "      <td>Papua New Guinea</td>\n",
       "      <td>79.7</td>\n",
       "      <td>20.3</td>\n",
       "    </tr>\n",
       "    <tr>\n",
       "      <th>2</th>\n",
       "      <td>AF</td>\n",
       "      <td>Afghanistan</td>\n",
       "      <td>78.3</td>\n",
       "      <td>21.7</td>\n",
       "    </tr>\n",
       "  </tbody>\n",
       "</table>\n",
       "</div>"
      ],
      "text/plain": [
       "  flagCode           Country  Crime_Rate  Safety\n",
       "0       VE         Venezuela        81.2    18.8\n",
       "1       PG  Papua New Guinea        79.7    20.3\n",
       "2       AF       Afghanistan        78.3    21.7"
      ]
     },
     "execution_count": 3,
     "metadata": {},
     "output_type": "execute_result"
    }
   ],
   "source": [
    "crime_df = crime_df.rename(columns={'CrimeIndex':'Crime_Rate'})\n",
    "crime_df.head(3)"
   ]
  },
  {
   "cell_type": "code",
   "execution_count": 4,
   "id": "9ac0c32a",
   "metadata": {},
   "outputs": [
    {
     "name": "stdout",
     "output_type": "stream",
     "text": [
      "Immigration Countries: 262\n",
      "Crime Countries: 141\n"
     ]
    }
   ],
   "source": [
    "print(\"Immigration Countries:\", immigration_df['Country'].nunique())\n",
    "print(\"Crime Countries:\", crime_df['Country'].nunique())"
   ]
  },
  {
   "cell_type": "code",
   "execution_count": 5,
   "id": "58d1e933",
   "metadata": {},
   "outputs": [
    {
     "name": "stdout",
     "output_type": "stream",
     "text": [
      "{'Tuvalu', 'French Guiana*', 'Niger', 'ASIA', 'Republic of Moldova*', 'Grenada', 'Chad', 'Gibraltar*', 'Saint Barthélemy*', 'Mali', 'Viet Nam', 'Tonga', 'Guinea', 'Congo', 'Eastern Africa', 'Southern Asia', 'Seychelles', 'Finland*', 'United States Virgin Islands*', 'Türkiye', 'San Marino', 'Madagascar', 'Senegal', 'United States of America*', 'French Polynesia*', 'Equatorial Guinea', 'Faroe Islands*', \"Lao People's Democratic Republic\", 'Saint Kitts and Nevis', 'Nauru', 'South-Eastern Asia', 'Niue*', 'AFRICA', 'NORTHERN AMERICA', 'Cabo Verde', 'Falkland Islands (Malvinas)*', 'Democratic Republic of the Congo', 'Western Sahara', 'Central African Republic', 'Micronesia', 'Burkina Faso', 'Lesotho', 'Togo', 'Vanuatu', 'OCEANIA', 'Martinique*', 'Turkmenistan', 'Timor-Leste', 'Wallis and Futuna Islands*', 'Gabon', 'Spain*', 'American Samoa*', 'Middle Africa', 'China, Hong Kong SAR', 'Benin', 'Netherlands*', 'Bolivia (Plurinational State of)', 'United Republic of Tanzania', \"Côte d'Ivoire\", 'Curaçao*', 'Saint Vincent and the Grenadines', 'Burundi', 'Australia/New Zealand', 'Malawi', 'South America', 'Tokelau*', 'Guam*', 'China, Macao SAR', 'Australia*', 'Sint Maarten (Dutch part)*', 'Syrian Arab Republic', 'Solomon Islands', 'Western Europe', 'Djibouti', 'China, Taiwan Province of China', 'Saint Pierre and Miquelon*', 'Marshall Islands', 'Northern Europe', 'Holy See*', 'Saint Lucia', 'Denmark*', 'Mauritania', 'Channel Islands*', 'Puerto Rico*', 'United Kingdom*', 'Polynesia*', 'Turks and Caicos Islands*', 'Saint Helena', 'Comoros', 'State of Palestine', 'Czechia', 'British Virgin Islands*', 'Liberia', 'LATIN AMERICA AND THE CARIBBEAN', 'Northern Africa', 'Réunion', 'Guadeloupe*', 'Ukraine*', 'Bosnia and Herzegovina', 'Gambia', 'New Caledonia*', 'EUROPE', 'Suriname', 'Cayman Islands*', 'Dominica', 'Central Asia', 'New Zealand*', 'Southern Europe', 'Sao Tome and Principe', 'Micronesia (Fed. States of)', 'Bermuda*', 'Anguilla*', 'Guinea-Bissau', 'Caribbean', 'Melanesia', 'Southern Africa', 'Montserrat*', 'Northern Mariana Islands*', 'Antigua and Barbuda', 'Brunei Darussalam', 'Norway*', 'Venezuela (Bolivarian Republic of)', 'Palau', 'Bhutan', 'Samoa', 'Aruba*', 'Serbia*', 'Bonaire, Sint Eustatius and Saba*', 'Kiribati', \"Dem. People's Republic of Korea\", 'Tajikistan', 'Western Asia', 'Cook Islands*', 'Eritrea', 'Russian Federation', 'Sierra Leone', 'Mayotte', 'Eswatini', 'Iran (Islamic Republic of)', 'South Sudan', 'Western Africa', 'Eastern Asia', 'Central America', 'Eastern Europe', 'Saint Martin (French part)*', 'France*', 'Greenland*', 'Isle of Man*', 'Liechtenstein', 'Republic of Korea'}\n"
     ]
    }
   ],
   "source": [
    "print(set(immigration_df['Country']).difference(set(crime_df['Country'])))"
   ]
  },
  {
   "cell_type": "markdown",
   "id": "ed72ef15",
   "metadata": {},
   "source": [
    "We can see here that some country names have nonalphabetical characters. For example, even though Denmark exists in crime data it doesn't match to immigration data country because it is written as 'Denmark*'. Therefore we should drop nonalphabetic characters. "
   ]
  },
  {
   "cell_type": "code",
   "execution_count": 6,
   "id": "8e755847",
   "metadata": {},
   "outputs": [],
   "source": [
    "import re\n",
    "\n",
    "# Define a cleaning function\n",
    "def clean_country_name(name):\n",
    "    return re.sub(r'[^a-zA-Z\\s]', '', name).strip()\n",
    "\n",
    "# Apply to both dataframes\n",
    "immigration_df['Country'] = immigration_df['Country'].apply(clean_country_name)\n",
    "crime_df['Country'] = crime_df['Country'].apply(clean_country_name)"
   ]
  },
  {
   "cell_type": "code",
   "execution_count": 7,
   "id": "fcda33fc",
   "metadata": {},
   "outputs": [
    {
     "name": "stdout",
     "output_type": "stream",
     "text": [
      "{'Tuvalu', 'Guam', 'Niger', 'ASIA', 'Curaao', 'Holy See', 'Grenada', 'Chad', 'Mali', 'Viet Nam', 'British Virgin Islands', 'Tonga', 'Guinea', 'Congo', 'Eastern Africa', 'Cook Islands', 'Southern Asia', 'Seychelles', 'San Marino', 'Madagascar', 'Senegal', 'Equatorial Guinea', 'Saint Kitts and Nevis', 'Nauru', 'Lao Peoples Democratic Republic', 'Runion', 'Greenland', 'AFRICA', 'NORTHERN AMERICA', 'Cabo Verde', 'Democratic Republic of the Congo', 'Niue', 'Western Sahara', 'Saint Martin French part', 'Trkiye', 'Central African Republic', 'Sint Maarten Dutch part', 'Burkina Faso', 'Martinique', 'Micronesia', 'Lesotho', 'Togo', 'Iran Islamic Republic of', 'Vanuatu', 'French Polynesia', 'OCEANIA', 'Bonaire Sint Eustatius and Saba', 'Wallis and Futuna Islands', 'Venezuela Bolivarian Republic of', 'Turkmenistan', 'Bolivia Plurinational State of', 'Gabon', 'Middle Africa', 'Benin', 'United Republic of Tanzania', 'Dem Peoples Republic of Korea', 'Saint Vincent and the Grenadines', 'Burundi', 'Saint Barthlemy', 'Malawi', 'Isle of Man', 'China Macao SAR', 'South America', 'Falkland Islands Malvinas', 'Gibraltar', 'Syrian Arab Republic', 'Solomon Islands', 'Tokelau', 'Marshall Islands', 'Djibouti', 'Western Europe', 'Northern Europe', 'Guadeloupe', 'Saint Lucia', 'Bermuda', 'Mauritania', 'Northern Mariana Islands', 'Montserrat', 'Polynesia', 'Channel Islands', 'Aruba', 'Saint Helena', 'Comoros', 'State of Palestine', 'Czechia', 'Liberia', 'Anguilla', 'LATIN AMERICA AND THE CARIBBEAN', 'Northern Africa', 'Republic of Korea', 'Bosnia and Herzegovina', 'Gambia', 'New Caledonia', 'United States of America', 'EUROPE', 'Suriname', 'Dominica', 'AustraliaNew Zealand', 'Central Asia', 'French Guiana', 'Southern Europe', 'Sao Tome and Principe', 'SouthEastern Asia', 'United States Virgin Islands', 'Caribbean', 'Melanesia', 'Southern Africa', 'Antigua and Barbuda', 'Brunei Darussalam', 'Palau', 'Samoa', 'China Hong Kong SAR', 'Bhutan', 'Kiribati', 'Turks and Caicos Islands', 'Cte dIvoire', 'Republic of Moldova', 'Tajikistan', 'Faroe Islands', 'Western Asia', 'Eritrea', 'Russian Federation', 'Sierra Leone', 'Mayotte', 'Eswatini', 'American Samoa', 'South Sudan', 'Micronesia Fed States of', 'Western Africa', 'China Taiwan Province of China', 'Saint Pierre and Miquelon', 'Eastern Asia', 'Cayman Islands', 'Central America', 'Eastern Europe', 'GuineaBissau', 'Liechtenstein', 'TimorLeste'}\n"
     ]
    }
   ],
   "source": [
    "print(set(immigration_df['Country']).difference(set(crime_df['Country'])))\n"
   ]
  },
  {
   "cell_type": "markdown",
   "id": "eebc13c8",
   "metadata": {},
   "source": [
    "Dropping nonalphabetic characters is not enough to match the countries because naming conventions are different for example 'Russian Federation' in immigration data corrseponds to 'Russia' in crime rate data. Python has a package called country_converter which standardizes all country names to a common format. I used this package to ensure consistent country naming across datasets and to merge them.\n"
   ]
  },
  {
   "cell_type": "markdown",
   "id": "e30e8fae",
   "metadata": {},
   "source": [
    "Country_converter throws warnings for strings that are not actual country names such as region names or recent political changes like 'Trkiye' instead of 'Turkey' existing in dataset immigration_df. I included a list of regions to exclude and a list of correct names."
   ]
  },
  {
   "cell_type": "code",
   "execution_count": 8,
   "id": "33f67e2e",
   "metadata": {},
   "outputs": [],
   "source": [
    "import country_converter as coco\n",
    "def standardize_country_names(df, country_col='Country'):\n",
    "    # Define region names to exclude\n",
    "    regions_to_exclude = [\n",
    "        \"AFRICA\", \"ASIA\", \"EUROPE\", \"OCEANIA\", \"LATIN AMERICA AND THE CARIBBEAN\", \"NORTHERN AMERICA\",\n",
    "        \"Western Europe\", \"Eastern Europe\", \"Southern Europe\", \"Northern Europe\",\n",
    "        \"Eastern Asia\", \"Southern Asia\", \"SouthEastern Asia\", \"Central Asia\", \"Western Asia\",\n",
    "        \"Middle Africa\", \"Eastern Africa\", \"Western Africa\", \"Northern Africa\",\n",
    "        \"Central America\", \"South America\", \"Caribbean\",\n",
    "        \"Melanesia\", \"Polynesia\",\n",
    "        \"Channel Islands\", \"AustraliaNew Zealand\", \"More than one regular expression match for AustraliaNew Zealand\"\n",
    "    ]\n",
    "\n",
    "    # Drop region-like rows\n",
    "    df = df[~df[country_col].isin(regions_to_exclude)].copy()\n",
    "\n",
    "    # Fix specific naming issues\n",
    "    name_corrections = {\n",
    "        \"Trkiye\": \"Turkey\",\n",
    "        \"China Taiwan Province of China\": \"Taiwan\",\n",
    "        \"AustraliaNew Zealand\": \"Australia\",\n",
    "        \"Curaao\": \"Curacao\",\n",
    "        \"Runion\": \"Reunion\",\n",
    "        \"Scotland (NUTS 2021)\": \"Scotland\",\n",
    "        \"Northern Ireland (UK) (NUTS 2021)\": \"Northern Ireland\"\n",
    "    }\n",
    "    df[country_col] = df[country_col].replace(name_corrections)\n",
    "\n",
    "    # Preprocess names to remove unwanted text (e.g., NUTS 2021, UK) \n",
    "    # You can further customize if needed\n",
    "    df[country_col] = df[country_col].apply(lambda x: re.sub(r\"\\s*\\(.*\\)\", \"\", x))\n",
    "\n",
    "    # Standardize country names\n",
    "    df['Country_standardized'] = coco.convert(\n",
    "        names=df[country_col], to='name_short', not_found=\"\"\n",
    "    )\n",
    "\n",
    "    return df\n"
   ]
  },
  {
   "cell_type": "code",
   "execution_count": 9,
   "id": "0bf1b55a",
   "metadata": {},
   "outputs": [],
   "source": [
    "immigration_df = standardize_country_names(immigration_df)\n",
    "crime_df = standardize_country_names(crime_df)"
   ]
  },
  {
   "cell_type": "code",
   "execution_count": 10,
   "id": "da378d2f",
   "metadata": {},
   "outputs": [
    {
     "data": {
      "text/html": [
       "<div>\n",
       "<style scoped>\n",
       "    .dataframe tbody tr th:only-of-type {\n",
       "        vertical-align: middle;\n",
       "    }\n",
       "\n",
       "    .dataframe tbody tr th {\n",
       "        vertical-align: top;\n",
       "    }\n",
       "\n",
       "    .dataframe thead th {\n",
       "        text-align: right;\n",
       "    }\n",
       "</style>\n",
       "<table border=\"1\" class=\"dataframe\">\n",
       "  <thead>\n",
       "    <tr style=\"text-align: right;\">\n",
       "      <th></th>\n",
       "      <th>Country</th>\n",
       "      <th>Immigration_percentage</th>\n",
       "      <th>Country_standardized</th>\n",
       "    </tr>\n",
       "  </thead>\n",
       "  <tbody>\n",
       "    <tr>\n",
       "      <th>2</th>\n",
       "      <td>Burundi</td>\n",
       "      <td>2.8</td>\n",
       "      <td>Burundi</td>\n",
       "    </tr>\n",
       "    <tr>\n",
       "      <th>3</th>\n",
       "      <td>Comoros</td>\n",
       "      <td>1.4</td>\n",
       "      <td>Comoros</td>\n",
       "    </tr>\n",
       "    <tr>\n",
       "      <th>4</th>\n",
       "      <td>Djibouti</td>\n",
       "      <td>10.8</td>\n",
       "      <td>Djibouti</td>\n",
       "    </tr>\n",
       "    <tr>\n",
       "      <th>5</th>\n",
       "      <td>Eritrea</td>\n",
       "      <td>0.4</td>\n",
       "      <td>Eritrea</td>\n",
       "    </tr>\n",
       "    <tr>\n",
       "      <th>6</th>\n",
       "      <td>Ethiopia</td>\n",
       "      <td>0.9</td>\n",
       "      <td>Ethiopia</td>\n",
       "    </tr>\n",
       "  </tbody>\n",
       "</table>\n",
       "</div>"
      ],
      "text/plain": [
       "    Country  Immigration_percentage Country_standardized\n",
       "2   Burundi                     2.8              Burundi\n",
       "3   Comoros                     1.4              Comoros\n",
       "4  Djibouti                    10.8             Djibouti\n",
       "5   Eritrea                     0.4              Eritrea\n",
       "6  Ethiopia                     0.9             Ethiopia"
      ]
     },
     "execution_count": 10,
     "metadata": {},
     "output_type": "execute_result"
    }
   ],
   "source": [
    "immigration_df.head()"
   ]
  },
  {
   "cell_type": "code",
   "execution_count": 11,
   "id": "c8fdf101",
   "metadata": {},
   "outputs": [
    {
     "data": {
      "text/html": [
       "<div>\n",
       "<style scoped>\n",
       "    .dataframe tbody tr th:only-of-type {\n",
       "        vertical-align: middle;\n",
       "    }\n",
       "\n",
       "    .dataframe tbody tr th {\n",
       "        vertical-align: top;\n",
       "    }\n",
       "\n",
       "    .dataframe thead th {\n",
       "        text-align: right;\n",
       "    }\n",
       "</style>\n",
       "<table border=\"1\" class=\"dataframe\">\n",
       "  <thead>\n",
       "    <tr style=\"text-align: right;\">\n",
       "      <th></th>\n",
       "      <th>flagCode</th>\n",
       "      <th>Country</th>\n",
       "      <th>Crime_Rate</th>\n",
       "      <th>Safety</th>\n",
       "      <th>Country_standardized</th>\n",
       "    </tr>\n",
       "  </thead>\n",
       "  <tbody>\n",
       "    <tr>\n",
       "      <th>0</th>\n",
       "      <td>VE</td>\n",
       "      <td>Venezuela</td>\n",
       "      <td>81.2</td>\n",
       "      <td>18.8</td>\n",
       "      <td>Venezuela</td>\n",
       "    </tr>\n",
       "    <tr>\n",
       "      <th>1</th>\n",
       "      <td>PG</td>\n",
       "      <td>Papua New Guinea</td>\n",
       "      <td>79.7</td>\n",
       "      <td>20.3</td>\n",
       "      <td>Papua New Guinea</td>\n",
       "    </tr>\n",
       "    <tr>\n",
       "      <th>2</th>\n",
       "      <td>AF</td>\n",
       "      <td>Afghanistan</td>\n",
       "      <td>78.3</td>\n",
       "      <td>21.7</td>\n",
       "      <td>Afghanistan</td>\n",
       "    </tr>\n",
       "    <tr>\n",
       "      <th>3</th>\n",
       "      <td>HT</td>\n",
       "      <td>Haiti</td>\n",
       "      <td>77.9</td>\n",
       "      <td>22.1</td>\n",
       "      <td>Haiti</td>\n",
       "    </tr>\n",
       "    <tr>\n",
       "      <th>4</th>\n",
       "      <td>ZA</td>\n",
       "      <td>South Africa</td>\n",
       "      <td>75.4</td>\n",
       "      <td>24.6</td>\n",
       "      <td>South Africa</td>\n",
       "    </tr>\n",
       "  </tbody>\n",
       "</table>\n",
       "</div>"
      ],
      "text/plain": [
       "  flagCode           Country  Crime_Rate  Safety Country_standardized\n",
       "0       VE         Venezuela        81.2    18.8            Venezuela\n",
       "1       PG  Papua New Guinea        79.7    20.3     Papua New Guinea\n",
       "2       AF       Afghanistan        78.3    21.7          Afghanistan\n",
       "3       HT             Haiti        77.9    22.1                Haiti\n",
       "4       ZA      South Africa        75.4    24.6         South Africa"
      ]
     },
     "execution_count": 11,
     "metadata": {},
     "output_type": "execute_result"
    }
   ],
   "source": [
    "crime_df.head()"
   ]
  },
  {
   "cell_type": "code",
   "execution_count": 12,
   "id": "ed2df270",
   "metadata": {},
   "outputs": [],
   "source": [
    "merged_df = pd.merge(immigration_df, crime_df, on='Country_standardized', how='outer')\n"
   ]
  },
  {
   "cell_type": "markdown",
   "id": "33830e0e",
   "metadata": {},
   "source": [
    "An outer merge is used to combine all rows from two datasets, regardless of whether they have matching keys. This means that if a record exists in only one of the dataframes, it will still appear in the merged result, with missing values (NaN) filled in for the columns from the other dataframe.\n",
    "Bu using outer merge, we ensure too keep all the data and not lose anything during merge, which is useful for data exploration and missing value detection. "
   ]
  },
  {
   "cell_type": "code",
   "execution_count": 13,
   "id": "b8a2334b",
   "metadata": {},
   "outputs": [
    {
     "data": {
      "text/html": [
       "<div>\n",
       "<style scoped>\n",
       "    .dataframe tbody tr th:only-of-type {\n",
       "        vertical-align: middle;\n",
       "    }\n",
       "\n",
       "    .dataframe tbody tr th {\n",
       "        vertical-align: top;\n",
       "    }\n",
       "\n",
       "    .dataframe thead th {\n",
       "        text-align: right;\n",
       "    }\n",
       "</style>\n",
       "<table border=\"1\" class=\"dataframe\">\n",
       "  <thead>\n",
       "    <tr style=\"text-align: right;\">\n",
       "      <th></th>\n",
       "      <th>Country_x</th>\n",
       "      <th>Immigration_percentage</th>\n",
       "      <th>Country_standardized</th>\n",
       "      <th>flagCode</th>\n",
       "      <th>Country_y</th>\n",
       "      <th>Crime_Rate</th>\n",
       "      <th>Safety</th>\n",
       "    </tr>\n",
       "  </thead>\n",
       "  <tbody>\n",
       "    <tr>\n",
       "      <th>0</th>\n",
       "      <td>Burundi</td>\n",
       "      <td>2.8</td>\n",
       "      <td>Burundi</td>\n",
       "      <td>NaN</td>\n",
       "      <td>NaN</td>\n",
       "      <td>NaN</td>\n",
       "      <td>NaN</td>\n",
       "    </tr>\n",
       "    <tr>\n",
       "      <th>1</th>\n",
       "      <td>Comoros</td>\n",
       "      <td>1.4</td>\n",
       "      <td>Comoros</td>\n",
       "      <td>NaN</td>\n",
       "      <td>NaN</td>\n",
       "      <td>NaN</td>\n",
       "      <td>NaN</td>\n",
       "    </tr>\n",
       "    <tr>\n",
       "      <th>2</th>\n",
       "      <td>Djibouti</td>\n",
       "      <td>10.8</td>\n",
       "      <td>Djibouti</td>\n",
       "      <td>NaN</td>\n",
       "      <td>NaN</td>\n",
       "      <td>NaN</td>\n",
       "      <td>NaN</td>\n",
       "    </tr>\n",
       "    <tr>\n",
       "      <th>3</th>\n",
       "      <td>Eritrea</td>\n",
       "      <td>0.4</td>\n",
       "      <td>Eritrea</td>\n",
       "      <td>NaN</td>\n",
       "      <td>NaN</td>\n",
       "      <td>NaN</td>\n",
       "      <td>NaN</td>\n",
       "    </tr>\n",
       "    <tr>\n",
       "      <th>4</th>\n",
       "      <td>Ethiopia</td>\n",
       "      <td>0.9</td>\n",
       "      <td>Ethiopia</td>\n",
       "      <td>ET</td>\n",
       "      <td>Ethiopia</td>\n",
       "      <td>50.8</td>\n",
       "      <td>49.2</td>\n",
       "    </tr>\n",
       "  </tbody>\n",
       "</table>\n",
       "</div>"
      ],
      "text/plain": [
       "  Country_x  Immigration_percentage Country_standardized flagCode Country_y  \\\n",
       "0   Burundi                     2.8              Burundi      NaN       NaN   \n",
       "1   Comoros                     1.4              Comoros      NaN       NaN   \n",
       "2  Djibouti                    10.8             Djibouti      NaN       NaN   \n",
       "3   Eritrea                     0.4              Eritrea      NaN       NaN   \n",
       "4  Ethiopia                     0.9             Ethiopia       ET  Ethiopia   \n",
       "\n",
       "   Crime_Rate  Safety  \n",
       "0         NaN     NaN  \n",
       "1         NaN     NaN  \n",
       "2         NaN     NaN  \n",
       "3         NaN     NaN  \n",
       "4        50.8    49.2  "
      ]
     },
     "execution_count": 13,
     "metadata": {},
     "output_type": "execute_result"
    }
   ],
   "source": [
    "merged_df.head()"
   ]
  },
  {
   "cell_type": "code",
   "execution_count": 14,
   "id": "1f130e15",
   "metadata": {},
   "outputs": [
    {
     "name": "stdout",
     "output_type": "stream",
     "text": [
      "    Country  Immigration_percentage flagCode  Crime_Rate\n",
      "0   Burundi                     2.8      NaN         NaN\n",
      "1   Comoros                     1.4      NaN         NaN\n",
      "2  Djibouti                    10.8      NaN         NaN\n",
      "3   Eritrea                     0.4      NaN         NaN\n",
      "4  Ethiopia                     0.9       ET        50.8\n"
     ]
    }
   ],
   "source": [
    "# Rearrange the stucture of the dataframe\n",
    "# Drop unwanted columns\n",
    "merged_df.drop(['Country_x', 'Country_y', 'Safety'], axis=1, inplace=True)\n",
    "\n",
    "# Rename 'Country_standardized' to 'Country' and move it to the front\n",
    "merged_df.rename(columns={'Country_standardized': 'Country'}, inplace=True)\n",
    "cols = merged_df.columns.tolist()\n",
    "cols.insert(0, cols.pop(cols.index('Country')))\n",
    "merged_df = merged_df[cols]\n",
    "\n",
    "# Check the updated DataFrame\n",
    "print(merged_df.head())\n"
   ]
  },
  {
   "cell_type": "markdown",
   "id": "a0425d64",
   "metadata": {},
   "source": [
    "### 3. Exploratory Data Analysis"
   ]
  },
  {
   "cell_type": "code",
   "execution_count": 15,
   "id": "6733de6b",
   "metadata": {},
   "outputs": [
    {
     "data": {
      "text/plain": [
       "(236, 4)"
      ]
     },
     "execution_count": 15,
     "metadata": {},
     "output_type": "execute_result"
    }
   ],
   "source": [
    "#Data Shape\n",
    "merged_df.shape"
   ]
  },
  {
   "cell_type": "code",
   "execution_count": 16,
   "id": "69cb6d5c",
   "metadata": {},
   "outputs": [
    {
     "data": {
      "text/plain": [
       "Country                    object\n",
       "Immigration_percentage    float64\n",
       "flagCode                   object\n",
       "Crime_Rate                float64\n",
       "dtype: object"
      ]
     },
     "execution_count": 16,
     "metadata": {},
     "output_type": "execute_result"
    }
   ],
   "source": [
    "merged_df.dtypes"
   ]
  },
  {
   "cell_type": "markdown",
   "id": "a59fc338",
   "metadata": {},
   "source": [
    "Observations:\n",
    "*Concentration at Low Immigration Percentage:\n",
    "Data points "
   ]
  },
  {
   "cell_type": "code",
   "execution_count": 17,
   "id": "3c7aea89",
   "metadata": {},
   "outputs": [
    {
     "data": {
      "text/plain": [
       "Country                    0\n",
       "Immigration_percentage     2\n",
       "flagCode                  95\n",
       "Crime_Rate                94\n",
       "dtype: int64"
      ]
     },
     "execution_count": 17,
     "metadata": {},
     "output_type": "execute_result"
    }
   ],
   "source": [
    "merged_df.isnull().sum()"
   ]
  },
  {
   "cell_type": "code",
   "execution_count": 18,
   "id": "c4367518",
   "metadata": {},
   "outputs": [
    {
     "data": {
      "text/plain": [
       "Country                   0.000000\n",
       "Immigration_percentage    0.008475\n",
       "flagCode                  0.402542\n",
       "Crime_Rate                0.398305\n",
       "dtype: float64"
      ]
     },
     "execution_count": 18,
     "metadata": {},
     "output_type": "execute_result"
    }
   ],
   "source": [
    "merged_df.isnull().sum()/len(merged_df)"
   ]
  },
  {
   "cell_type": "markdown",
   "id": "58fdf433",
   "metadata": {},
   "source": [
    "-->High percentage of missing values in crime index column."
   ]
  },
  {
   "cell_type": "markdown",
   "id": "bb6288b0",
   "metadata": {},
   "source": [
    "Statistics"
   ]
  },
  {
   "cell_type": "code",
   "execution_count": 19,
   "id": "5f8918ca",
   "metadata": {},
   "outputs": [
    {
     "data": {
      "text/html": [
       "<div>\n",
       "<style scoped>\n",
       "    .dataframe tbody tr th:only-of-type {\n",
       "        vertical-align: middle;\n",
       "    }\n",
       "\n",
       "    .dataframe tbody tr th {\n",
       "        vertical-align: top;\n",
       "    }\n",
       "\n",
       "    .dataframe thead th {\n",
       "        text-align: right;\n",
       "    }\n",
       "</style>\n",
       "<table border=\"1\" class=\"dataframe\">\n",
       "  <thead>\n",
       "    <tr style=\"text-align: right;\">\n",
       "      <th></th>\n",
       "      <th>Immigration_percentage</th>\n",
       "      <th>Crime_Rate</th>\n",
       "    </tr>\n",
       "  </thead>\n",
       "  <tbody>\n",
       "    <tr>\n",
       "      <th>count</th>\n",
       "      <td>234.000000</td>\n",
       "      <td>142.000000</td>\n",
       "    </tr>\n",
       "    <tr>\n",
       "      <th>mean</th>\n",
       "      <td>15.091880</td>\n",
       "      <td>45.865493</td>\n",
       "    </tr>\n",
       "    <tr>\n",
       "      <th>std</th>\n",
       "      <td>19.851984</td>\n",
       "      <td>15.459891</td>\n",
       "    </tr>\n",
       "    <tr>\n",
       "      <th>min</th>\n",
       "      <td>0.000000</td>\n",
       "      <td>12.900000</td>\n",
       "    </tr>\n",
       "    <tr>\n",
       "      <th>25%</th>\n",
       "      <td>1.725000</td>\n",
       "      <td>32.950000</td>\n",
       "    </tr>\n",
       "    <tr>\n",
       "      <th>50%</th>\n",
       "      <td>6.400000</td>\n",
       "      <td>46.450000</td>\n",
       "    </tr>\n",
       "    <tr>\n",
       "      <th>75%</th>\n",
       "      <td>18.425000</td>\n",
       "      <td>56.125000</td>\n",
       "    </tr>\n",
       "    <tr>\n",
       "      <th>max</th>\n",
       "      <td>100.000000</td>\n",
       "      <td>81.200000</td>\n",
       "    </tr>\n",
       "  </tbody>\n",
       "</table>\n",
       "</div>"
      ],
      "text/plain": [
       "       Immigration_percentage  Crime_Rate\n",
       "count              234.000000  142.000000\n",
       "mean                15.091880   45.865493\n",
       "std                 19.851984   15.459891\n",
       "min                  0.000000   12.900000\n",
       "25%                  1.725000   32.950000\n",
       "50%                  6.400000   46.450000\n",
       "75%                 18.425000   56.125000\n",
       "max                100.000000   81.200000"
      ]
     },
     "execution_count": 19,
     "metadata": {},
     "output_type": "execute_result"
    }
   ],
   "source": [
    "merged_df.describe()"
   ]
  },
  {
   "cell_type": "markdown",
   "id": "5b1d222b",
   "metadata": {},
   "source": [
    "Let's see how much the missing values of crime index affects the results. "
   ]
  },
  {
   "cell_type": "code",
   "execution_count": 20,
   "id": "f77e950a",
   "metadata": {},
   "outputs": [],
   "source": [
    "df_cleaned=merged_df.dropna(axis=0, how='any', inplace=False)\n"
   ]
  },
  {
   "cell_type": "code",
   "execution_count": 21,
   "id": "dbbe7fcc",
   "metadata": {},
   "outputs": [
    {
     "data": {
      "text/html": [
       "<div>\n",
       "<style scoped>\n",
       "    .dataframe tbody tr th:only-of-type {\n",
       "        vertical-align: middle;\n",
       "    }\n",
       "\n",
       "    .dataframe tbody tr th {\n",
       "        vertical-align: top;\n",
       "    }\n",
       "\n",
       "    .dataframe thead th {\n",
       "        text-align: right;\n",
       "    }\n",
       "</style>\n",
       "<table border=\"1\" class=\"dataframe\">\n",
       "  <thead>\n",
       "    <tr style=\"text-align: right;\">\n",
       "      <th></th>\n",
       "      <th>Immigration_percentage</th>\n",
       "      <th>Crime_Rate</th>\n",
       "    </tr>\n",
       "  </thead>\n",
       "  <tbody>\n",
       "    <tr>\n",
       "      <th>count</th>\n",
       "      <td>141.000000</td>\n",
       "      <td>141.000000</td>\n",
       "    </tr>\n",
       "    <tr>\n",
       "      <th>mean</th>\n",
       "      <td>11.602128</td>\n",
       "      <td>45.737589</td>\n",
       "    </tr>\n",
       "    <tr>\n",
       "      <th>std</th>\n",
       "      <td>15.786013</td>\n",
       "      <td>15.439423</td>\n",
       "    </tr>\n",
       "    <tr>\n",
       "      <th>min</th>\n",
       "      <td>0.000000</td>\n",
       "      <td>12.900000</td>\n",
       "    </tr>\n",
       "    <tr>\n",
       "      <th>25%</th>\n",
       "      <td>1.500000</td>\n",
       "      <td>32.800000</td>\n",
       "    </tr>\n",
       "    <tr>\n",
       "      <th>50%</th>\n",
       "      <td>5.300000</td>\n",
       "      <td>46.400000</td>\n",
       "    </tr>\n",
       "    <tr>\n",
       "      <th>75%</th>\n",
       "      <td>14.400000</td>\n",
       "      <td>55.300000</td>\n",
       "    </tr>\n",
       "    <tr>\n",
       "      <th>max</th>\n",
       "      <td>76.700000</td>\n",
       "      <td>81.200000</td>\n",
       "    </tr>\n",
       "  </tbody>\n",
       "</table>\n",
       "</div>"
      ],
      "text/plain": [
       "       Immigration_percentage  Crime_Rate\n",
       "count              141.000000  141.000000\n",
       "mean                11.602128   45.737589\n",
       "std                 15.786013   15.439423\n",
       "min                  0.000000   12.900000\n",
       "25%                  1.500000   32.800000\n",
       "50%                  5.300000   46.400000\n",
       "75%                 14.400000   55.300000\n",
       "max                 76.700000   81.200000"
      ]
     },
     "execution_count": 21,
     "metadata": {},
     "output_type": "execute_result"
    }
   ],
   "source": [
    "df_cleaned.describe()"
   ]
  },
  {
   "cell_type": "code",
   "execution_count": 22,
   "id": "91813c8f",
   "metadata": {},
   "outputs": [
    {
     "data": {
      "text/plain": [
       "0.23123378951141838"
      ]
     },
     "execution_count": 22,
     "metadata": {},
     "output_type": "execute_result"
    }
   ],
   "source": [
    "(merged_df['Immigration_percentage'].mean() - df_cleaned['Immigration_percentage'].mean())/merged_df['Immigration_percentage'].mean()"
   ]
  },
  {
   "cell_type": "markdown",
   "id": "783ded91",
   "metadata": {},
   "source": [
    "Missing values change the mean of immigration percentage by 23%."
   ]
  },
  {
   "cell_type": "code",
   "execution_count": 25,
   "id": "67b4fc9c",
   "metadata": {},
   "outputs": [
    {
     "data": {
      "text/plain": [
       "array([[nan, nan],\n",
       "       [nan, nan]])"
      ]
     },
     "execution_count": 25,
     "metadata": {},
     "output_type": "execute_result"
    }
   ],
   "source": [
    "import numpy as np\n",
    "np.corrcoef(merged_df['Immigration_percentage'],merged_df['Crime_Rate'])"
   ]
  },
  {
   "cell_type": "markdown",
   "id": "5abe1f40",
   "metadata": {},
   "source": [
    "We cannot calculate correlation because of the missing values. "
   ]
  },
  {
   "cell_type": "code",
   "execution_count": 27,
   "id": "1c39e947",
   "metadata": {},
   "outputs": [
    {
     "data": {
      "text/plain": [
       "array([[ 1.        , -0.50337572],\n",
       "       [-0.50337572,  1.        ]])"
      ]
     },
     "execution_count": 27,
     "metadata": {},
     "output_type": "execute_result"
    }
   ],
   "source": [
    "np.corrcoef(df_cleaned['Immigration_percentage'],df_cleaned['Crime_Rate'])"
   ]
  },
  {
   "cell_type": "code",
   "execution_count": 28,
   "id": "55ba799e",
   "metadata": {},
   "outputs": [],
   "source": [
    "import matplotlib.pyplot as plt\n",
    "import seaborn as sns"
   ]
  },
  {
   "cell_type": "code",
   "execution_count": 29,
   "id": "5d8bf8eb",
   "metadata": {},
   "outputs": [
    {
     "data": {
      "image/png": "[encoded data removed]",
      "text/plain": [
       "<Figure size 640x480 with 1 Axes>"
      ]
     },
     "metadata": {},
     "output_type": "display_data"
    }
   ],
   "source": [
    "plt.hist(merged_df['Immigration_percentage'],bins=30)\n",
    "q1=np.nanpercentile(merged_df['Immigration_percentage'],25)\n",
    "q2=np.nanpercentile(merged_df['Immigration_percentage'],50)\n",
    "q3=np.nanpercentile(merged_df['Immigration_percentage'],75)\n",
    "plt.axvline(q1,color='#777777',linestyle='dashed',label='25 %')\n",
    "plt.axvline(q2,color='#777777',linestyle='dashdot',label='50 %')\n",
    "plt.axvline(q3,color='#777777',linestyle='solid',label='75 %')\n",
    "plt.legend(loc='upper right')\n",
    "plt.xlabel('Immigration Percentage')\n",
    "plt.ylabel('Frequency')\n",
    "plt.title('Immigration Percentage Histogram')\n",
    "plt.savefig('immigration_histogram.png')\n",
    "plt.show()"
   ]
  },
  {
   "cell_type": "markdown",
   "id": "7e40ee85",
   "metadata": {},
   "source": [
    "Observations:\n",
    "1. Highly skewed distribution: The data is heavily right-skewed, indicating that most countries have low immigration percentages.\n",
    "2. Long tail: There are some countries with very high immigration percentages, which are potential outliers."
   ]
  },
  {
   "cell_type": "markdown",
   "id": "cfa45c7a",
   "metadata": {},
   "source": [
    "Outlier Detection "
   ]
  },
  {
   "cell_type": "code",
   "execution_count": 55,
   "id": "c7a86338",
   "metadata": {},
   "outputs": [
    {
     "name": "stdout",
     "output_type": "stream",
     "text": [
      "                               Country  Immigration_percentage\n",
      "9                              Mayotte                    44.0\n",
      "66                               Macau                    59.3\n",
      "88                           Singapore                    48.7\n",
      "94                             Bahrain                    52.3\n",
      "99                              Jordan                    45.7\n",
      "100                             Kuwait                    67.3\n",
      "103                              Qatar                    76.7\n",
      "108               United Arab Emirates                    74.0\n",
      "126                        Isle of Man                    51.9\n",
      "133                            Andorra                    59.1\n",
      "138                            Vatican                   100.0\n",
      "152                      Liechtenstein                    69.4\n",
      "153                         Luxembourg                    51.2\n",
      "154                             Monaco                    70.2\n",
      "159                              Aruba                    68.0\n",
      "162  Bonaire, Saint Eustatius and Saba                   100.0\n",
      "163             British Virgin Islands                    62.1\n",
      "181                       Sint Maarten                    69.5\n",
      "183           Turks and Caicos Islands                    61.1\n",
      "184       United States Virgin Islands                    66.9\n",
      "199                   Falkland Islands                    67.2\n",
      "221                               Guam                    50.2\n",
      "225           Northern Mariana Islands                    49.7\n",
      "227                     American Samoa                    50.6\n",
      "232                            Tokelau                    51.2\n"
     ]
    },
    {
     "data": {
      "image/png": "[encoded data removed]",
      "text/plain": [
       "<Figure size 1600x500 with 1 Axes>"
      ]
     },
     "metadata": {},
     "output_type": "display_data"
    }
   ],
   "source": [
    "import matplotlib.pyplot as plt\n",
    "import seaborn as sns\n",
    "\n",
    "# Step 1: Calculate IQR to find outliers\n",
    "Q1 = merged_df['Immigration_percentage'].quantile(0.25)\n",
    "Q3 = merged_df['Immigration_percentage'].quantile(0.75)\n",
    "IQR = Q3 - Q1\n",
    "outlier_threshold = Q3 + 1.5 * IQR\n",
    "\n",
    "# Step 2: Filter outliers\n",
    "outliers = merged_df[merged_df['Immigration_percentage'] > outlier_threshold].copy()\n",
    "print(outliers[['Country', 'Immigration_percentage']])\n",
    "\n",
    "# Step 3: Create the boxplot\n",
    "plt.figure(figsize=(16, 5))\n",
    "sns.boxplot(x=merged_df['Immigration_percentage'], width=0.4)\n",
    "plt.title('Boxplot of Immigration Percentage')\n",
    "plt.xlabel('Immigration Percentage')\n",
    "\n",
    "# Step 4: Adjust overlapping labels\n",
    "x_counts = outliers['Immigration_percentage'].value_counts()\n",
    "dup_values = x_counts[x_counts > 1].index.tolist()\n",
    "\n",
    "for i, (_, row) in enumerate(outliers.iterrows()):\n",
    "    x = row['Immigration_percentage']\n",
    "    y = 0\n",
    "    label = row['Country']\n",
    "\n",
    "    # Slight offset if this x value appears more than once\n",
    "    if x in dup_values:\n",
    "        offset = (i % 2) * 1.5 - 0.75  # alternate left/right: -0.75, +0.75\n",
    "        x_display = x + offset\n",
    "    else:\n",
    "        x_display = x\n",
    "\n",
    "    plt.scatter(x, y, color='red', zorder=3)\n",
    "    plt.text(x_display, 0.05, label,\n",
    "             rotation=35, ha='center', fontsize=8)\n",
    "\n",
    "plt.xlim(0, outliers['Immigration_percentage'].max() + 10)\n",
    "plt.tight_layout()\n",
    "plt.savefig('immigration_boxplot.png')\n",
    "plt.show()\n"
   ]
  },
  {
   "cell_type": "markdown",
   "id": "851fd83a",
   "metadata": {},
   "source": [
    "As seen abpve  Bonaire, Saint Eustatius and Saba  and Vatican has 100% immigration percentage. It is due to how immigration percentage is calculated. It refers to the ratio of number of immigrants to the total poulation. Bonaire, Saint Eustatius and Saba and Vatican has small population but high proportion of foreign born residents, creating this statistical effect."
   ]
  },
  {
   "cell_type": "code",
   "execution_count": 31,
   "id": "cb307e49",
   "metadata": {},
   "outputs": [
    {
     "data": {
      "image/png": "[encoded data removed]",
      "text/plain": [
       "<Figure size 640x480 with 1 Axes>"
      ]
     },
     "metadata": {},
     "output_type": "display_data"
    }
   ],
   "source": [
    "plt.hist(merged_df['Crime_Rate'],bins=30)\n",
    "q1=np.nanpercentile(merged_df['Crime_Rate'],25)\n",
    "q2=np.nanpercentile(merged_df['Crime_Rate'],50)\n",
    "q3=np.nanpercentile(merged_df['Crime_Rate'],75)\n",
    "plt.axvline(q1,color='#777777',linestyle='dashed',label='25 %')\n",
    "plt.axvline(q2,color='#777777',linestyle='dashdot',label='50 %')\n",
    "plt.axvline(q3,color='#777777',linestyle='solid',label='75 %')\n",
    "plt.legend(loc='upper right')\n",
    "plt.xlabel('Crime Rate')\n",
    "plt.ylabel('Frequency')\n",
    "plt.title('Crime Rate Histogram')\n",
    "plt.savefig('crime_histogram.png')\n",
    "plt.show()"
   ]
  },
  {
   "cell_type": "markdown",
   "id": "96b08811",
   "metadata": {},
   "source": [
    "Observations:\n",
    "1. Rougly symmetrical distribution: The data appears more balanced with less skewness. \n"
   ]
  },
  {
   "cell_type": "code",
   "execution_count": 56,
   "id": "5f187dcb",
   "metadata": {},
   "outputs": [
    {
     "name": "stdout",
     "output_type": "stream",
     "text": [
      "No crime rate outliers detected.\n"
     ]
    },
    {
     "data": {
      "image/png": "[encoded data removed]",
      "text/plain": [
       "<Figure size 1200x400 with 1 Axes>"
      ]
     },
     "metadata": {},
     "output_type": "display_data"
    }
   ],
   "source": [
    "import matplotlib.pyplot as plt\n",
    "import seaborn as sns\n",
    "\n",
    "plt.figure(figsize=(12, 4))\n",
    "sns.boxplot(x=merged_df['Crime_Rate'], width=0.3)\n",
    "plt.title('Boxplot of Crime Rate')\n",
    "plt.xlabel('Crime Rate')\n",
    "\n",
    "if not crime_outliers.empty:\n",
    "    # Plot and annotate outlier points\n",
    "    for _, row in crime_outliers.iterrows():\n",
    "        plt.scatter(row['Crime_Rate'], 0, color='red', zorder=3)\n",
    "        plt.text(row['Crime_Rate'], 0.05, row['Country_standardized'],\n",
    "                 fontsize=8, rotation=45, ha='left', va='bottom')\n",
    "\n",
    "    # Extend x-axis to avoid clipping\n",
    "    max_val = crime_outliers['Crime_Rate'].max()\n",
    "    plt.xlim(0, max_val + 5)\n",
    "else:\n",
    "    # Optional: Print a message if no outliers\n",
    "    print(\"No crime rate outliers detected.\")\n",
    "\n",
    "plt.tight_layout()\n",
    "plt.savefig('crime_boxplot.png')\n",
    "plt.show()\n"
   ]
  },
  {
   "cell_type": "code",
   "execution_count": 57,
   "id": "c45dfca7",
   "metadata": {},
   "outputs": [
    {
     "data": {
      "image/png": "[encoded data removed]",
      "text/plain": [
       "<Figure size 640x480 with 1 Axes>"
      ]
     },
     "metadata": {},
     "output_type": "display_data"
    }
   ],
   "source": [
    "plt.scatter(merged_df['Immigration_percentage'],merged_df['Crime_Rate'])\n",
    "\n",
    "q1=np.nanpercentile(merged_df['Immigration_percentage'],25)\n",
    "q2=np.nanpercentile(merged_df['Immigration_percentage'],50)\n",
    "q3=np.nanpercentile(merged_df['Immigration_percentage'],75)\n",
    "plt.axvline(q1,color='#777777',linestyle='dashed',label='25 %')\n",
    "plt.axvline(q2,color='#777777',linestyle='dashdot',label='50 %')\n",
    "plt.axvline(q3,color='#777777',linestyle='solid',label='75 %')\n",
    "plt.legend(loc='upper right')\n",
    "\n",
    "\n",
    "plt.title('Immigration Percentage vs. Crime Rate')\n",
    "plt.xlabel('Immigration Percentage')\n",
    "plt.ylabel('Crime Rate')\n",
    "plt.savefig('immigration_vs_crime.png')\n",
    "plt.show()\n"
   ]
  },
  {
   "cell_type": "markdown",
   "id": "e079d55d",
   "metadata": {},
   "source": [
    "Observations:\n",
    "1. Overall Trend: There appears to be no clear linear correlation between immigration percentage and crime rate. \n",
    "2. Clustering: Most counctries cluster in the low immigration(0-10%) and moderate crime rate zone. "
   ]
  },
  {
   "cell_type": "markdown",
   "id": "025b0a9e",
   "metadata": {},
   "source": [
    "While the initial goal of this project was to conduct a global analysis, early exploration of the data revealed that certain countries — particularly in South America and some tropical regions — exhibit extremely high crime rates despite having relatively low immigration levels. Including these countries in the main analysis could misrepresent or obscure the relationship under investigation, as their crime rates are likely driven by more fundamental issues such as political instability, organized crime, poverty, and weak judicial institutions. These underlying factors act as confounders, making it difficult to isolate the effect of immigration on crime. To ensure a more valid and interpretable analysis, this study will focus on European countries, which tend to have more comparable economic conditions, better institutional structures, and more consistent crime and immigration reporting standards. By narrowing the scope in this way, the project reduces external variability and increases the likelihood of uncovering meaningful patterns specific to the immigration-crime dynamic, rather than broader structural issues that dominate in less stable regions."
   ]
  },
  {
   "cell_type": "code",
   "execution_count": 35,
   "id": "189a3345",
   "metadata": {},
   "outputs": [],
   "source": [
    "# List of European countries using ISO Alpha-2 codes\n",
    "europe_iso2 = [\n",
    "    'AL', 'AD', 'AT', 'BY', 'BE', 'BA', 'BG', 'HR', 'CY', 'CZ',\n",
    "    'DK', 'EE', 'FI', 'FR', 'DE', 'GR', 'HU', 'IS', 'IE', 'IT',\n",
    "    'XK', 'LV', 'LI', 'LT', 'LU', 'MT', 'MD', 'MC', 'ME', 'NL',\n",
    "    'MK', 'NO', 'PL', 'PT', 'RO', 'RU', 'SM', 'RS', 'SK', 'SI',\n",
    "    'ES', 'SE', 'CH', 'UA', 'GB', 'VA'\n",
    "]"
   ]
  },
  {
   "cell_type": "code",
   "execution_count": 36,
   "id": "de586f5e",
   "metadata": {},
   "outputs": [],
   "source": [
    "import country_converter as coco\n",
    "\n",
    "def filter_by_iso2(df, country_col='Country', flag_col='flagCode'):\n",
    "    \"\"\"\n",
    "    Filters the DataFrame based on a list of ISO2 country codes and adds flag codes (ISO2) to the DataFrame.\n",
    "\n",
    "    Parameters:\n",
    "    df (pandas DataFrame): The DataFrame to filter.\n",
    "    iso2_codes (list): The list of ISO2 country codes to filter by.\n",
    "    country_col (str): The name of the column containing the country names (default is 'Country').\n",
    "    flag_col (str): The name of the column to store the flag codes (default is 'flagCode').\n",
    "\n",
    "    Returns:\n",
    "    pandas DataFrame: Filtered DataFrame with only the rows having flag codes in iso2_codes.\n",
    "    \"\"\"\n",
    "    # Add flag codes to the DataFrame by mapping the country names to flag codes\n",
    "    df[flag_col] = coco.convert(names=df[country_col], to='ISO2')\n",
    "\n",
    "    # Filter the DataFrame based on the ISO2 codes\n",
    "    filtered_df = df[df[flag_col].isin(europe_iso2)].copy()\n",
    "\n",
    "    return filtered_df\n"
   ]
  },
  {
   "cell_type": "code",
   "execution_count": 37,
   "id": "1e404c4b",
   "metadata": {},
   "outputs": [
    {
     "data": {
      "text/html": [
       "<div>\n",
       "<style scoped>\n",
       "    .dataframe tbody tr th:only-of-type {\n",
       "        vertical-align: middle;\n",
       "    }\n",
       "\n",
       "    .dataframe tbody tr th {\n",
       "        vertical-align: top;\n",
       "    }\n",
       "\n",
       "    .dataframe thead th {\n",
       "        text-align: right;\n",
       "    }\n",
       "</style>\n",
       "<table border=\"1\" class=\"dataframe\">\n",
       "  <thead>\n",
       "    <tr style=\"text-align: right;\">\n",
       "      <th></th>\n",
       "      <th>Country</th>\n",
       "      <th>Immigration_percentage</th>\n",
       "      <th>flagCode</th>\n",
       "      <th>Crime_Rate</th>\n",
       "    </tr>\n",
       "  </thead>\n",
       "  <tbody>\n",
       "    <tr>\n",
       "      <th>95</th>\n",
       "      <td>Cyprus</td>\n",
       "      <td>14.9</td>\n",
       "      <td>CY</td>\n",
       "      <td>32.4</td>\n",
       "    </tr>\n",
       "    <tr>\n",
       "      <th>110</th>\n",
       "      <td>Belarus</td>\n",
       "      <td>11.6</td>\n",
       "      <td>BY</td>\n",
       "      <td>50.8</td>\n",
       "    </tr>\n",
       "    <tr>\n",
       "      <th>111</th>\n",
       "      <td>Bulgaria</td>\n",
       "      <td>4.4</td>\n",
       "      <td>BG</td>\n",
       "      <td>37.1</td>\n",
       "    </tr>\n",
       "    <tr>\n",
       "      <th>112</th>\n",
       "      <td>Czechia</td>\n",
       "      <td>9.5</td>\n",
       "      <td>CZ</td>\n",
       "      <td>26.8</td>\n",
       "    </tr>\n",
       "    <tr>\n",
       "      <th>113</th>\n",
       "      <td>Hungary</td>\n",
       "      <td>7.1</td>\n",
       "      <td>HU</td>\n",
       "      <td>33.7</td>\n",
       "    </tr>\n",
       "  </tbody>\n",
       "</table>\n",
       "</div>"
      ],
      "text/plain": [
       "      Country  Immigration_percentage flagCode  Crime_Rate\n",
       "95     Cyprus                    14.9       CY        32.4\n",
       "110   Belarus                    11.6       BY        50.8\n",
       "111  Bulgaria                     4.4       BG        37.1\n",
       "112   Czechia                     9.5       CZ        26.8\n",
       "113   Hungary                     7.1       HU        33.7"
      ]
     },
     "execution_count": 37,
     "metadata": {},
     "output_type": "execute_result"
    }
   ],
   "source": [
    "european_df=merged_df[merged_df['flagCode'].isin(europe_iso2)]\n",
    "european_df.head()"
   ]
  },
  {
   "cell_type": "markdown",
   "id": "f1435c0c",
   "metadata": {},
   "source": [
    "Descriptive Statistics for Europe"
   ]
  },
  {
   "cell_type": "code",
   "execution_count": 38,
   "id": "d1de882b",
   "metadata": {},
   "outputs": [
    {
     "data": {
      "text/html": [
       "<div>\n",
       "<style scoped>\n",
       "    .dataframe tbody tr th:only-of-type {\n",
       "        vertical-align: middle;\n",
       "    }\n",
       "\n",
       "    .dataframe tbody tr th {\n",
       "        vertical-align: top;\n",
       "    }\n",
       "\n",
       "    .dataframe thead th {\n",
       "        text-align: right;\n",
       "    }\n",
       "</style>\n",
       "<table border=\"1\" class=\"dataframe\">\n",
       "  <thead>\n",
       "    <tr style=\"text-align: right;\">\n",
       "      <th></th>\n",
       "      <th>Immigration_percentage</th>\n",
       "      <th>Crime_Rate</th>\n",
       "    </tr>\n",
       "  </thead>\n",
       "  <tbody>\n",
       "    <tr>\n",
       "      <th>count</th>\n",
       "      <td>41.000000</td>\n",
       "      <td>41.000000</td>\n",
       "    </tr>\n",
       "    <tr>\n",
       "      <th>mean</th>\n",
       "      <td>17.297561</td>\n",
       "      <td>35.736585</td>\n",
       "    </tr>\n",
       "    <tr>\n",
       "      <th>std</th>\n",
       "      <td>14.444298</td>\n",
       "      <td>9.503361</td>\n",
       "    </tr>\n",
       "    <tr>\n",
       "      <th>min</th>\n",
       "      <td>1.700000</td>\n",
       "      <td>12.900000</td>\n",
       "    </tr>\n",
       "    <tr>\n",
       "      <th>25%</th>\n",
       "      <td>9.200000</td>\n",
       "      <td>26.800000</td>\n",
       "    </tr>\n",
       "    <tr>\n",
       "      <th>50%</th>\n",
       "      <td>14.200000</td>\n",
       "      <td>34.400000</td>\n",
       "    </tr>\n",
       "    <tr>\n",
       "      <th>75%</th>\n",
       "      <td>19.800000</td>\n",
       "      <td>45.100000</td>\n",
       "    </tr>\n",
       "    <tr>\n",
       "      <th>max</th>\n",
       "      <td>70.200000</td>\n",
       "      <td>55.300000</td>\n",
       "    </tr>\n",
       "  </tbody>\n",
       "</table>\n",
       "</div>"
      ],
      "text/plain": [
       "       Immigration_percentage  Crime_Rate\n",
       "count               41.000000   41.000000\n",
       "mean                17.297561   35.736585\n",
       "std                 14.444298    9.503361\n",
       "min                  1.700000   12.900000\n",
       "25%                  9.200000   26.800000\n",
       "50%                 14.200000   34.400000\n",
       "75%                 19.800000   45.100000\n",
       "max                 70.200000   55.300000"
      ]
     },
     "execution_count": 38,
     "metadata": {},
     "output_type": "execute_result"
    }
   ],
   "source": [
    "european_df.describe()"
   ]
  },
  {
   "cell_type": "code",
   "execution_count": 39,
   "id": "1062d31c",
   "metadata": {},
   "outputs": [
    {
     "data": {
      "text/plain": [
       "Country                   0\n",
       "Immigration_percentage    0\n",
       "flagCode                  0\n",
       "Crime_Rate                0\n",
       "dtype: int64"
      ]
     },
     "execution_count": 39,
     "metadata": {},
     "output_type": "execute_result"
    }
   ],
   "source": [
    "european_df.isnull().sum()"
   ]
  },
  {
   "cell_type": "markdown",
   "id": "1ae77534",
   "metadata": {},
   "source": [
    "Explanatory Data Analysis for Europe"
   ]
  },
  {
   "cell_type": "code",
   "execution_count": 61,
   "id": "8b2ab07d",
   "metadata": {},
   "outputs": [
    {
     "data": {
      "image/png": "[encoded data removed]",
      "text/plain": [
       "<Figure size 1200x800 with 4 Axes>"
      ]
     },
     "metadata": {},
     "output_type": "display_data"
    }
   ],
   "source": [
    "import matplotlib.pyplot as plt\n",
    "import seaborn as sns\n",
    "\n",
    "plt.figure(figsize=(12, 8))  # Adjust figure size\n",
    "\n",
    "# Immigration Histogram (top-left)\n",
    "plt.subplot(2, 2, 1)\n",
    "plt.hist(european_df['Immigration_percentage'], bins=10, color='skyblue', edgecolor='black')\n",
    "plt.title('Histogram of Immigration Percentage')\n",
    "plt.xlabel('Immigration Percentage')\n",
    "plt.ylabel('Number of Countries')\n",
    "\n",
    "# Immigration Boxplot (top-right)\n",
    "plt.subplot(2, 2, 2)\n",
    "sns.boxplot(x=european_df['Immigration_percentage'], color='skyblue')\n",
    "plt.title('Boxplot of Immigration Percentage')\n",
    "plt.xlabel('Immigration Percentage')\n",
    "\n",
    "# Crime Histogram (bottom-left)\n",
    "plt.subplot(2, 2, 3)\n",
    "plt.hist(european_df['Crime_Rate'], bins=10, color='salmon', edgecolor='black')\n",
    "plt.title('Histogram of Crime Rate')\n",
    "plt.xlabel('Crime Rate')\n",
    "plt.ylabel('Number of Countries')\n",
    "\n",
    "# Crime Boxplot (bottom-right)\n",
    "plt.subplot(2, 2, 4)\n",
    "sns.boxplot(x=european_df['Crime_Rate'], color='salmon')\n",
    "plt.title('Boxplot of Crime Rate')\n",
    "plt.xlabel('Crime Rate')\n",
    "\n",
    "plt.tight_layout()\n",
    "plt.savefig('europe.png')\n",
    "plt.show()\n"
   ]
  },
  {
   "cell_type": "code",
   "execution_count": 59,
   "id": "0f967008",
   "metadata": {},
   "outputs": [
    {
     "name": "stdout",
     "output_type": "stream",
     "text": [
      "Immigration Outliers (based on IQR method):\n",
      "        Country  Immigration_percentage\n",
      "133     Andorra                    59.1\n",
      "140       Malta                    37.0\n",
      "153  Luxembourg                    51.2\n",
      "154      Monaco                    70.2\n"
     ]
    }
   ],
   "source": [
    "# Step 1: Calculate IQR\n",
    "Q1 = european_df['Immigration_percentage'].quantile(0.25)\n",
    "Q3 = european_df['Immigration_percentage'].quantile(0.75)\n",
    "IQR = Q3 - Q1\n",
    "threshold = Q3 + 1.5 * IQR\n",
    "\n",
    "# Step 2: Filter outliers\n",
    "immigration_outliers = european_df[european_df['Immigration_percentage'] > threshold]\n",
    "\n",
    "# Step 3: Display them\n",
    "print(\"Immigration Outliers (based on IQR method):\")\n",
    "print(immigration_outliers[['Country', 'Immigration_percentage']])\n"
   ]
  },
  {
   "cell_type": "code",
   "execution_count": 63,
   "id": "179d0b28",
   "metadata": {},
   "outputs": [
    {
     "data": {
      "image/png": "[encoded data removed]",
      "text/plain": [
       "<Figure size 640x480 with 1 Axes>"
      ]
     },
     "metadata": {},
     "output_type": "display_data"
    }
   ],
   "source": [
    "plt.scatter('Immigration_percentage','Crime_Rate',data=european_df)\n",
    "# Add country codes as labels to each point\n",
    "for i, row in european_df.iterrows():\n",
    "    plt.text(row['Immigration_percentage']-0.5, row['Crime_Rate']+0.5, row['flagCode'], )\n",
    "\n",
    "plt.xlabel('Immigration Percentage')\n",
    "plt.ylabel('Crime Rate')\n",
    "plt.title('Immigration vs Crime in European Countries')\n",
    "plt.savefig('scatter_europe.png')\n",
    "plt.show()"
   ]
  },
  {
   "cell_type": "markdown",
   "id": "d4ea652a",
   "metadata": {},
   "source": [
    "4. Hypothesis Testing"
   ]
  },
  {
   "cell_type": "code",
   "execution_count": 42,
   "id": "8cf1b0c8",
   "metadata": {},
   "outputs": [],
   "source": [
    "import numpy as np"
   ]
  },
  {
   "cell_type": "code",
   "execution_count": 43,
   "id": "61fc2c8c",
   "metadata": {},
   "outputs": [
    {
     "data": {
      "text/plain": [
       "array([[ 1.        , -0.33574244],\n",
       "       [-0.33574244,  1.        ]])"
      ]
     },
     "execution_count": 43,
     "metadata": {},
     "output_type": "execute_result"
    }
   ],
   "source": [
    "np.corrcoef(european_df['Immigration_percentage'],european_df['Crime_Rate'])"
   ]
  },
  {
   "cell_type": "code",
   "execution_count": 44,
   "id": "c1bc28c5",
   "metadata": {},
   "outputs": [
    {
     "data": {
      "text/plain": [
       "SignificanceResult(statistic=-0.1742919389978213, pvalue=0.2757712339515884)"
      ]
     },
     "execution_count": 44,
     "metadata": {},
     "output_type": "execute_result"
    }
   ],
   "source": [
    "from scipy.stats import spearmanr\n",
    "spearmanr(european_df['Immigration_percentage'],european_df['Crime_Rate'])"
   ]
  },
  {
   "cell_type": "markdown",
   "id": "e326b204",
   "metadata": {},
   "source": [
    "To evaluate whether there is a relationship between immigration levels and crime rates, I divided the countries into distinct groups based on their immigration percentages as low, medium, and high immigration using quantiles (tertiles for 3 groups). This method allows us to search for potential non-linear patterns beyond linear relationships we can observe with pearson or spearman correlation coefficients. Using tertiles also ensures that each group contains roughly equal number of observations, which improves the comprability of statistical analyses. By applying ANOVA, I can statistically test whether the differences in crime indices across these groups are significant, thereby providing a clearer understanding of the impact of immigration on crime.\n",
    "\n"
   ]
  },
  {
   "cell_type": "markdown",
   "id": "6ed28fe4",
   "metadata": {},
   "source": [
    "ANOVA Hypothesis testing\\\n",
    "Null Hypothesis: Immigration percentage does not have an effect on the crime index.\\\n",
    "Alternative Hypothesis: There is at least one group whose mean crime index is significantly different from others. \n"
   ]
  },
  {
   "cell_type": "code",
   "execution_count": 45,
   "id": "36de95b5",
   "metadata": {},
   "outputs": [
    {
     "name": "stderr",
     "output_type": "stream",
     "text": [
      "C:\\Users\\SILA\\AppData\\Local\\Temp\\ipykernel_18148\\1927107284.py:2: SettingWithCopyWarning: \n",
      "A value is trying to be set on a copy of a slice from a DataFrame.\n",
      "Try using .loc[row_indexer,col_indexer] = value instead\n",
      "\n",
      "See the caveats in the documentation: https://pandas.pydata.org/pandas-docs/stable/user_guide/indexing.html#returning-a-view-versus-a-copy\n",
      "  european_df['Immigration_Group'] = pd.qcut(\n"
     ]
    }
   ],
   "source": [
    "# Divide into tertiles (3 roughly equal groups)\n",
    "european_df['Immigration_Group'] = pd.qcut(\n",
    "    european_df['Immigration_percentage'],\n",
    "    q=3,\n",
    "    labels=['Low Immigration', 'Medium Immigration', 'High Immigration']\n",
    ")\n"
   ]
  },
  {
   "cell_type": "code",
   "execution_count": 46,
   "id": "8ce97194",
   "metadata": {},
   "outputs": [
    {
     "data": {
      "image/png": "[encoded data removed]",
      "text/plain": [
       "<Figure size 640x480 with 1 Axes>"
      ]
     },
     "metadata": {},
     "output_type": "display_data"
    }
   ],
   "source": [
    "sns.boxplot(x='Immigration_Group', y='Crime_Rate', data=european_df)\n",
    "plt.title(\"Crime Index by Immigration Group\")\n",
    "plt.show()"
   ]
  },
  {
   "cell_type": "code",
   "execution_count": 47,
   "id": "89595081",
   "metadata": {},
   "outputs": [
    {
     "name": "stdout",
     "output_type": "stream",
     "text": [
      "F-statistic: 0.1694557882168883\n",
      "P-value: 0.8447584195076667\n"
     ]
    }
   ],
   "source": [
    "from scipy.stats import f_oneway\n",
    "\n",
    "low = european_df[european_df['Immigration_Group'] == 'Low Immigration']['Crime_Rate']\n",
    "medium = european_df[european_df['Immigration_Group'] == 'Medium Immigration']['Crime_Rate']\n",
    "high = european_df[european_df['Immigration_Group'] == 'High Immigration']['Crime_Rate']\n",
    "\n",
    "f_stat, p_value = f_oneway(low, medium, high)\n",
    "\n",
    "print(f\"F-statistic: {f_stat}\")\n",
    "print(f\"P-value: {p_value}\")\n"
   ]
  },
  {
   "cell_type": "code",
   "execution_count": 48,
   "id": "a2a6b760",
   "metadata": {},
   "outputs": [
    {
     "data": {
      "text/html": [
       "<div>\n",
       "<style scoped>\n",
       "    .dataframe tbody tr th:only-of-type {\n",
       "        vertical-align: middle;\n",
       "    }\n",
       "\n",
       "    .dataframe tbody tr th {\n",
       "        vertical-align: top;\n",
       "    }\n",
       "\n",
       "    .dataframe thead th {\n",
       "        text-align: right;\n",
       "    }\n",
       "</style>\n",
       "<table border=\"1\" class=\"dataframe\">\n",
       "  <thead>\n",
       "    <tr style=\"text-align: right;\">\n",
       "      <th></th>\n",
       "      <th>Immigration_percentage</th>\n",
       "      <th>Crime_Rate</th>\n",
       "    </tr>\n",
       "  </thead>\n",
       "  <tbody>\n",
       "    <tr>\n",
       "      <th>count</th>\n",
       "      <td>41.000000</td>\n",
       "      <td>41.000000</td>\n",
       "    </tr>\n",
       "    <tr>\n",
       "      <th>mean</th>\n",
       "      <td>17.297561</td>\n",
       "      <td>35.736585</td>\n",
       "    </tr>\n",
       "    <tr>\n",
       "      <th>std</th>\n",
       "      <td>14.444298</td>\n",
       "      <td>9.503361</td>\n",
       "    </tr>\n",
       "    <tr>\n",
       "      <th>min</th>\n",
       "      <td>1.700000</td>\n",
       "      <td>12.900000</td>\n",
       "    </tr>\n",
       "    <tr>\n",
       "      <th>25%</th>\n",
       "      <td>9.200000</td>\n",
       "      <td>26.800000</td>\n",
       "    </tr>\n",
       "    <tr>\n",
       "      <th>50%</th>\n",
       "      <td>14.200000</td>\n",
       "      <td>34.400000</td>\n",
       "    </tr>\n",
       "    <tr>\n",
       "      <th>75%</th>\n",
       "      <td>19.800000</td>\n",
       "      <td>45.100000</td>\n",
       "    </tr>\n",
       "    <tr>\n",
       "      <th>max</th>\n",
       "      <td>70.200000</td>\n",
       "      <td>55.300000</td>\n",
       "    </tr>\n",
       "  </tbody>\n",
       "</table>\n",
       "</div>"
      ],
      "text/plain": [
       "       Immigration_percentage  Crime_Rate\n",
       "count               41.000000   41.000000\n",
       "mean                17.297561   35.736585\n",
       "std                 14.444298    9.503361\n",
       "min                  1.700000   12.900000\n",
       "25%                  9.200000   26.800000\n",
       "50%                 14.200000   34.400000\n",
       "75%                 19.800000   45.100000\n",
       "max                 70.200000   55.300000"
      ]
     },
     "execution_count": 48,
     "metadata": {},
     "output_type": "execute_result"
    }
   ],
   "source": [
    "european_df.describe()"
   ]
  },
  {
   "cell_type": "markdown",
   "id": "cde5972e",
   "metadata": {},
   "source": [
    "PART 2) DETAILED ANALYSIS  \n",
    "To strengthen my analysis, I decided to expand the dataset by including specific crime types instead of relying solely on a general crime index. Aggregated measures may hide important patterns, as different crimes—like homicide, burglary, or fraud—can be influenced by distinct factors. This enhancement allows for more targeted analysis and meaningful hypothesis testing to explore whether immigration correlates with particular crime categories."
   ]
  },
  {
   "cell_type": "markdown",
   "id": "3356c853",
   "metadata": {},
   "source": [
    "To enrich the analysis, I included the Migrant Integration Policy Index (MIPEX) as it provides valuable insight into how well countries support the integration of immigrants through policies in areas like education, labor market mobility, and anti-discrimination. This index helps contextualize crime and immigration data by highlighting whether inclusive policies may influence societal outcomes. Since the most recent MIPEX data is from 2019, I aligned all other features—such as crime rates and immigration percentages—to that year to maintain consistency. Using 2019 data also avoids potential distortions caused by the COVID-19 pandemic, which significantly disrupted migration patterns and crime statistics."
   ]
  },
  {
   "cell_type": "markdown",
   "id": "4ee4dc31",
   "metadata": {},
   "source": [
    "Import Data"
   ]
  },
  {
   "cell_type": "code",
   "execution_count": 49,
   "id": "cef81859",
   "metadata": {},
   "outputs": [],
   "source": [
    "immigration_2019_df=pd.read_excel('immigration_data_2019.xlsx')\n",
    "mipex_df=pd.read_excel('MIPEX.xlsx')\n",
    "crime_2019_df=pd.read_excel('crime_2019.xlsx')"
   ]
  },
  {
   "cell_type": "code",
   "execution_count": 50,
   "id": "43ab9d8e",
   "metadata": {},
   "outputs": [
    {
     "data": {
      "text/plain": [
       "GEO (Labels)      object\n",
       "Homicide          object\n",
       "SexualViolence    object\n",
       "Rape              object\n",
       "SexualAssault     object\n",
       "Theft             object\n",
       "dtype: object"
      ]
     },
     "execution_count": 50,
     "metadata": {},
     "output_type": "execute_result"
    }
   ],
   "source": [
    "crime_2019_df.dtypes"
   ]
  },
  {
   "cell_type": "code",
   "execution_count": 51,
   "id": "fc91c20f",
   "metadata": {},
   "outputs": [
    {
     "ename": "NameError",
     "evalue": "name 'df' is not defined",
     "output_type": "error",
     "traceback": [
      "\u001b[1;31m---------------------------------------------------------------------------\u001b[0m",
      "\u001b[1;31mNameError\u001b[0m                                 Traceback (most recent call last)",
      "Cell \u001b[1;32mIn[51], line 2\u001b[0m\n\u001b[0;32m      1\u001b[0m \u001b[38;5;66;03m# Convert a specific column to numeric\u001b[39;00m\n\u001b[1;32m----> 2\u001b[0m df[\u001b[38;5;124m'\u001b[39m\u001b[38;5;124mcolumn_name\u001b[39m\u001b[38;5;124m'\u001b[39m] \u001b[38;5;241m=\u001b[39m pd\u001b[38;5;241m.\u001b[39mto_numeric(\u001b[43mdf\u001b[49m[\u001b[38;5;124m'\u001b[39m\u001b[38;5;124mHomicide\u001b[39m\u001b[38;5;124m'\u001b[39m], errors\u001b[38;5;241m=\u001b[39m\u001b[38;5;124m'\u001b[39m\u001b[38;5;124mcoerce\u001b[39m\u001b[38;5;124m'\u001b[39m)\n",
      "\u001b[1;31mNameError\u001b[0m: name 'df' is not defined"
     ]
    }
   ],
   "source": [
    "# Convert a specific column to numeric\n",
    "df['column_name'] = pd.to_numeric(df['Homicide'], errors='coerce')"
   ]
  },
  {
   "cell_type": "code",
   "execution_count": null,
   "id": "11153316",
   "metadata": {},
   "outputs": [
    {
     "data": {
      "text/plain": [
       "GEO (Labels)            41\n",
       "Homicide                 4\n",
       "SexualViolence           5\n",
       "Rape                     6\n",
       "SexualAssault            9\n",
       "Theft                    5\n",
       "Country_standardized    41\n",
       "flagCode                41\n",
       "dtype: int64"
      ]
     },
     "execution_count": 65,
     "metadata": {},
     "output_type": "execute_result"
    }
   ],
   "source": [
    "crime_2019_df.isnull().sum()"
   ]
  },
  {
   "cell_type": "code",
   "execution_count": null,
   "id": "2fffeb3f",
   "metadata": {},
   "outputs": [
    {
     "name": "stdout",
     "output_type": "stream",
     "text": [
      "Index(['GEO (Labels)', 'Homicide', 'SexualViolence', 'Rape', 'SexualAssault',\n",
      "       'Theft'],\n",
      "      dtype='object')\n",
      "Index(['Country', 'Immigration'], dtype='object')\n",
      "Index(['Country', 'MIPEX'], dtype='object')\n"
     ]
    }
   ],
   "source": [
    "print(crime_2019_df.columns)\n",
    "print(immigration_2019_df.columns)\n",
    "print(mipex_df.columns)"
   ]
  },
  {
   "cell_type": "code",
   "execution_count": null,
   "id": "113ef45c",
   "metadata": {},
   "outputs": [
    {
     "name": "stderr",
     "output_type": "stream",
     "text": [
      "Scotland not found in regex\n",
      "Northern Ireland not found in regex\n"
     ]
    }
   ],
   "source": [
    "crime_2019_df=standardize_country_names(crime_2019_df,'GEO (Labels)')\n",
    "immigration_2019_df=standardize_country_names(immigration_2019_df,'Country')\n",
    "mipex_df=standardize_country_names(mipex_df,'Country')"
   ]
  },
  {
   "cell_type": "code",
   "execution_count": null,
   "id": "f5da5e86",
   "metadata": {},
   "outputs": [
    {
     "name": "stdout",
     "output_type": "stream",
     "text": [
      "Index(['GEO (Labels)', 'Homicide', 'SexualViolence', 'Rape', 'SexualAssault',\n",
      "       'Theft', 'Country_standardized'],\n",
      "      dtype='object') size (41, 7)\n",
      "Index(['Country', 'Immigration', 'Country_standardized'], dtype='object') size 141\n",
      "Index(['Country', 'MIPEX', 'Country_standardized'], dtype='object') size 144\n"
     ]
    }
   ],
   "source": [
    "print(crime_2019_df.columns,'size', crime_2019_df.shape)\n",
    "print(immigration_2019_df.columns,'size', immigration_2019_df.size)\n",
    "print(mipex_df.columns,'size',mipex_df.size)"
   ]
  },
  {
   "cell_type": "code",
   "execution_count": null,
   "id": "069038c6",
   "metadata": {},
   "outputs": [
    {
     "name": "stderr",
     "output_type": "stream",
     "text": [
      "Scotland not found in regex\n",
      "Northern Ireland not found in regex\n"
     ]
    }
   ],
   "source": [
    "crime_2019_europe=filter_by_iso2(crime_2019_df,'Country_standardized')\n",
    "immigration_2019_europe=filter_by_iso2(immigration_2019_df,'Country_standardized')\n",
    "mipex_europe=filter_by_iso2(mipex_df,'Country_standardized')"
   ]
  },
  {
   "cell_type": "code",
   "execution_count": null,
   "id": "7b9c0a35",
   "metadata": {},
   "outputs": [
    {
     "name": "stdout",
     "output_type": "stream",
     "text": [
      "Index(['GEO (Labels)', 'Homicide', 'SexualViolence', 'Rape', 'SexualAssault',\n",
      "       'Theft', 'Country_standardized', 'flagCode'],\n",
      "      dtype='object') size (38, 8)\n",
      "Index(['Country', 'Immigration', 'Country_standardized', 'flagCode'], dtype='object') size (44, 4)\n",
      "Index(['Country', 'MIPEX', 'Country_standardized', 'flagCode'], dtype='object') size (36, 4)\n"
     ]
    }
   ],
   "source": [
    "print(crime_2019_europe.columns,'shape', crime_2019_europe.shape)\n",
    "print(immigration_2019_europe.columns,'shape',immigration_2019_europe.shape)\n",
    "print(mipex_europe.columns,'shape',mipex_europe.shape)"
   ]
  },
  {
   "cell_type": "markdown",
   "id": "cdc9e636",
   "metadata": {},
   "source": [
    "As seen above, crime data has 38 rows whereas immigration data has 44 and MIPEX data has 36. We will use inner join to find their overlap."
   ]
  },
  {
   "cell_type": "code",
   "execution_count": null,
   "id": "c32c57e6",
   "metadata": {},
   "outputs": [
    {
     "name": "stdout",
     "output_type": "stream",
     "text": [
      "Index(['GEO (Labels)', 'Homicide', 'SexualViolence', 'Rape', 'SexualAssault',\n",
      "       'Theft', 'Country_standardized', 'flagCode_x', 'Country_x',\n",
      "       'Immigration', 'flagCode_y', 'Country_y', 'MIPEX', 'flagCode'],\n",
      "      dtype='object') shape (32, 14)\n"
     ]
    }
   ],
   "source": [
    "# Perform the inner join on the 'Country_standardized' column\n",
    "merged_europe_df = pd.merge(crime_2019_europe, immigration_2019_europe, on='Country_standardized', how='inner')\n",
    "merged_europe_df = pd.merge(merged_europe_df, mipex_europe, on='Country_standardized', how='inner')\n",
    "\n",
    "# Print the shape and columns of the merged dataset\n",
    "print(merged_europe_df.columns, 'shape', merged_europe_df.shape)\n"
   ]
  },
  {
   "cell_type": "code",
   "execution_count": null,
   "id": "7fe08d5a",
   "metadata": {},
   "outputs": [
    {
     "data": {
      "text/html": [
       "<div>\n",
       "<style scoped>\n",
       "    .dataframe tbody tr th:only-of-type {\n",
       "        vertical-align: middle;\n",
       "    }\n",
       "\n",
       "    .dataframe tbody tr th {\n",
       "        vertical-align: top;\n",
       "    }\n",
       "\n",
       "    .dataframe thead th {\n",
       "        text-align: right;\n",
       "    }\n",
       "</style>\n",
       "<table border=\"1\" class=\"dataframe\">\n",
       "  <thead>\n",
       "    <tr style=\"text-align: right;\">\n",
       "      <th></th>\n",
       "      <th>GEO (Labels)</th>\n",
       "      <th>Homicide</th>\n",
       "      <th>SexualViolence</th>\n",
       "      <th>Rape</th>\n",
       "      <th>SexualAssault</th>\n",
       "      <th>Theft</th>\n",
       "      <th>Country_standardized</th>\n",
       "      <th>flagCode_x</th>\n",
       "      <th>Country_x</th>\n",
       "      <th>Immigration</th>\n",
       "      <th>flagCode_y</th>\n",
       "      <th>Country_y</th>\n",
       "      <th>MIPEX</th>\n",
       "      <th>flagCode</th>\n",
       "    </tr>\n",
       "  </thead>\n",
       "  <tbody>\n",
       "    <tr>\n",
       "      <th>0</th>\n",
       "      <td>Belgium</td>\n",
       "      <td>1.28</td>\n",
       "      <td>84.13</td>\n",
       "      <td>36.85</td>\n",
       "      <td>47.29</td>\n",
       "      <td>1985.09</td>\n",
       "      <td>Belgium</td>\n",
       "      <td>BE</td>\n",
       "      <td>Belgium</td>\n",
       "      <td>17.2</td>\n",
       "      <td>BE</td>\n",
       "      <td>Belgium</td>\n",
       "      <td>69</td>\n",
       "      <td>BE</td>\n",
       "    </tr>\n",
       "    <tr>\n",
       "      <th>1</th>\n",
       "      <td>Bulgaria</td>\n",
       "      <td>1.16</td>\n",
       "      <td>8.64</td>\n",
       "      <td>1.87</td>\n",
       "      <td>6.77</td>\n",
       "      <td>473.88</td>\n",
       "      <td>Bulgaria</td>\n",
       "      <td>BG</td>\n",
       "      <td>Bulgaria</td>\n",
       "      <td>2.4</td>\n",
       "      <td>BG</td>\n",
       "      <td>Bulgaria</td>\n",
       "      <td>40</td>\n",
       "      <td>BG</td>\n",
       "    </tr>\n",
       "    <tr>\n",
       "      <th>2</th>\n",
       "      <td>Czechia</td>\n",
       "      <td>0.76</td>\n",
       "      <td>14.65</td>\n",
       "      <td>6.41</td>\n",
       "      <td>8.12</td>\n",
       "      <td>561.98</td>\n",
       "      <td>Czechia</td>\n",
       "      <td>CZ</td>\n",
       "      <td>Czechia</td>\n",
       "      <td>4.8</td>\n",
       "      <td>CZ</td>\n",
       "      <td>Czechia</td>\n",
       "      <td>50</td>\n",
       "      <td>CZ</td>\n",
       "    </tr>\n",
       "    <tr>\n",
       "      <th>3</th>\n",
       "      <td>Denmark</td>\n",
       "      <td>0.93</td>\n",
       "      <td>84.31</td>\n",
       "      <td>35.33</td>\n",
       "      <td>48.98</td>\n",
       "      <td>2928.71</td>\n",
       "      <td>Denmark</td>\n",
       "      <td>DK</td>\n",
       "      <td>Denmark</td>\n",
       "      <td>12.5</td>\n",
       "      <td>DK</td>\n",
       "      <td>Denmark</td>\n",
       "      <td>49</td>\n",
       "      <td>DK</td>\n",
       "    </tr>\n",
       "    <tr>\n",
       "      <th>4</th>\n",
       "      <td>Germany</td>\n",
       "      <td>0.71</td>\n",
       "      <td>49.05</td>\n",
       "      <td>11.53</td>\n",
       "      <td>37.52</td>\n",
       "      <td>1235.04</td>\n",
       "      <td>Germany</td>\n",
       "      <td>DE</td>\n",
       "      <td>Germany</td>\n",
       "      <td>15.7</td>\n",
       "      <td>DE</td>\n",
       "      <td>Germany</td>\n",
       "      <td>58</td>\n",
       "      <td>DE</td>\n",
       "    </tr>\n",
       "  </tbody>\n",
       "</table>\n",
       "</div>"
      ],
      "text/plain": [
       "  GEO (Labels) Homicide SexualViolence   Rape SexualAssault    Theft  \\\n",
       "0      Belgium     1.28          84.13  36.85         47.29  1985.09   \n",
       "1     Bulgaria     1.16           8.64   1.87          6.77   473.88   \n",
       "2      Czechia     0.76          14.65   6.41          8.12   561.98   \n",
       "3      Denmark     0.93          84.31  35.33         48.98  2928.71   \n",
       "4      Germany     0.71          49.05  11.53         37.52  1235.04   \n",
       "\n",
       "  Country_standardized flagCode_x Country_x  Immigration flagCode_y Country_y  \\\n",
       "0              Belgium         BE   Belgium         17.2         BE   Belgium   \n",
       "1             Bulgaria         BG  Bulgaria          2.4         BG  Bulgaria   \n",
       "2              Czechia         CZ   Czechia          4.8         CZ   Czechia   \n",
       "3              Denmark         DK   Denmark         12.5         DK   Denmark   \n",
       "4              Germany         DE   Germany         15.7         DE   Germany   \n",
       "\n",
       "   MIPEX flagCode  \n",
       "0     69       BE  \n",
       "1     40       BG  \n",
       "2     50       CZ  \n",
       "3     49       DK  \n",
       "4     58       DE  "
      ]
     },
     "execution_count": 52,
     "metadata": {},
     "output_type": "execute_result"
    }
   ],
   "source": [
    "merged_europe_df.head()"
   ]
  },
  {
   "cell_type": "code",
   "execution_count": null,
   "id": "ba7cde55",
   "metadata": {},
   "outputs": [
    {
     "data": {
      "text/html": [
       "<div>\n",
       "<style scoped>\n",
       "    .dataframe tbody tr th:only-of-type {\n",
       "        vertical-align: middle;\n",
       "    }\n",
       "\n",
       "    .dataframe tbody tr th {\n",
       "        vertical-align: top;\n",
       "    }\n",
       "\n",
       "    .dataframe thead th {\n",
       "        text-align: right;\n",
       "    }\n",
       "</style>\n",
       "<table border=\"1\" class=\"dataframe\">\n",
       "  <thead>\n",
       "    <tr style=\"text-align: right;\">\n",
       "      <th></th>\n",
       "      <th>Homicide</th>\n",
       "      <th>SexualViolence</th>\n",
       "      <th>Rape</th>\n",
       "      <th>SexualAssault</th>\n",
       "      <th>Theft</th>\n",
       "      <th>Country_standardized</th>\n",
       "      <th>Immigration</th>\n",
       "      <th>MIPEX</th>\n",
       "    </tr>\n",
       "  </thead>\n",
       "  <tbody>\n",
       "    <tr>\n",
       "      <th>0</th>\n",
       "      <td>1.28</td>\n",
       "      <td>84.13</td>\n",
       "      <td>36.85</td>\n",
       "      <td>47.29</td>\n",
       "      <td>1985.09</td>\n",
       "      <td>Belgium</td>\n",
       "      <td>17.2</td>\n",
       "      <td>69</td>\n",
       "    </tr>\n",
       "    <tr>\n",
       "      <th>1</th>\n",
       "      <td>1.16</td>\n",
       "      <td>8.64</td>\n",
       "      <td>1.87</td>\n",
       "      <td>6.77</td>\n",
       "      <td>473.88</td>\n",
       "      <td>Bulgaria</td>\n",
       "      <td>2.4</td>\n",
       "      <td>40</td>\n",
       "    </tr>\n",
       "    <tr>\n",
       "      <th>2</th>\n",
       "      <td>0.76</td>\n",
       "      <td>14.65</td>\n",
       "      <td>6.41</td>\n",
       "      <td>8.12</td>\n",
       "      <td>561.98</td>\n",
       "      <td>Czechia</td>\n",
       "      <td>4.8</td>\n",
       "      <td>50</td>\n",
       "    </tr>\n",
       "    <tr>\n",
       "      <th>3</th>\n",
       "      <td>0.93</td>\n",
       "      <td>84.31</td>\n",
       "      <td>35.33</td>\n",
       "      <td>48.98</td>\n",
       "      <td>2928.71</td>\n",
       "      <td>Denmark</td>\n",
       "      <td>12.5</td>\n",
       "      <td>49</td>\n",
       "    </tr>\n",
       "    <tr>\n",
       "      <th>4</th>\n",
       "      <td>0.71</td>\n",
       "      <td>49.05</td>\n",
       "      <td>11.53</td>\n",
       "      <td>37.52</td>\n",
       "      <td>1235.04</td>\n",
       "      <td>Germany</td>\n",
       "      <td>15.7</td>\n",
       "      <td>58</td>\n",
       "    </tr>\n",
       "  </tbody>\n",
       "</table>\n",
       "</div>"
      ],
      "text/plain": [
       "  Homicide SexualViolence   Rape SexualAssault    Theft Country_standardized  \\\n",
       "0     1.28          84.13  36.85         47.29  1985.09              Belgium   \n",
       "1     1.16           8.64   1.87          6.77   473.88             Bulgaria   \n",
       "2     0.76          14.65   6.41          8.12   561.98              Czechia   \n",
       "3     0.93          84.31  35.33         48.98  2928.71              Denmark   \n",
       "4     0.71          49.05  11.53         37.52  1235.04              Germany   \n",
       "\n",
       "   Immigration  MIPEX  \n",
       "0         17.2     69  \n",
       "1          2.4     40  \n",
       "2          4.8     50  \n",
       "3         12.5     49  \n",
       "4         15.7     58  "
      ]
     },
     "execution_count": 53,
     "metadata": {},
     "output_type": "execute_result"
    }
   ],
   "source": [
    "#We can drop unnecessary columns\n",
    "merged_europe_df.drop(columns=['GEO (Labels)', 'flagCode_x', 'Country_x','flagCode_y','Country_y','flagCode'], inplace=True)\n",
    "merged_europe_df.head()"
   ]
  },
  {
   "cell_type": "code",
   "execution_count": null,
   "id": "13368042",
   "metadata": {},
   "outputs": [
    {
     "data": {
      "text/html": [
       "<div>\n",
       "<style scoped>\n",
       "    .dataframe tbody tr th:only-of-type {\n",
       "        vertical-align: middle;\n",
       "    }\n",
       "\n",
       "    .dataframe tbody tr th {\n",
       "        vertical-align: top;\n",
       "    }\n",
       "\n",
       "    .dataframe thead th {\n",
       "        text-align: right;\n",
       "    }\n",
       "</style>\n",
       "<table border=\"1\" class=\"dataframe\">\n",
       "  <thead>\n",
       "    <tr style=\"text-align: right;\">\n",
       "      <th></th>\n",
       "      <th>Country</th>\n",
       "      <th>Homicide</th>\n",
       "      <th>SexualViolence</th>\n",
       "      <th>Rape</th>\n",
       "      <th>SexualAssault</th>\n",
       "      <th>Theft</th>\n",
       "      <th>Immigration</th>\n",
       "      <th>MIPEX</th>\n",
       "    </tr>\n",
       "  </thead>\n",
       "  <tbody>\n",
       "    <tr>\n",
       "      <th>0</th>\n",
       "      <td>Belgium</td>\n",
       "      <td>1.28</td>\n",
       "      <td>84.13</td>\n",
       "      <td>36.85</td>\n",
       "      <td>47.29</td>\n",
       "      <td>1985.09</td>\n",
       "      <td>17.2</td>\n",
       "      <td>69</td>\n",
       "    </tr>\n",
       "    <tr>\n",
       "      <th>1</th>\n",
       "      <td>Bulgaria</td>\n",
       "      <td>1.16</td>\n",
       "      <td>8.64</td>\n",
       "      <td>1.87</td>\n",
       "      <td>6.77</td>\n",
       "      <td>473.88</td>\n",
       "      <td>2.4</td>\n",
       "      <td>40</td>\n",
       "    </tr>\n",
       "    <tr>\n",
       "      <th>2</th>\n",
       "      <td>Czechia</td>\n",
       "      <td>0.76</td>\n",
       "      <td>14.65</td>\n",
       "      <td>6.41</td>\n",
       "      <td>8.12</td>\n",
       "      <td>561.98</td>\n",
       "      <td>4.8</td>\n",
       "      <td>50</td>\n",
       "    </tr>\n",
       "    <tr>\n",
       "      <th>3</th>\n",
       "      <td>Denmark</td>\n",
       "      <td>0.93</td>\n",
       "      <td>84.31</td>\n",
       "      <td>35.33</td>\n",
       "      <td>48.98</td>\n",
       "      <td>2928.71</td>\n",
       "      <td>12.5</td>\n",
       "      <td>49</td>\n",
       "    </tr>\n",
       "    <tr>\n",
       "      <th>4</th>\n",
       "      <td>Germany</td>\n",
       "      <td>0.71</td>\n",
       "      <td>49.05</td>\n",
       "      <td>11.53</td>\n",
       "      <td>37.52</td>\n",
       "      <td>1235.04</td>\n",
       "      <td>15.7</td>\n",
       "      <td>58</td>\n",
       "    </tr>\n",
       "  </tbody>\n",
       "</table>\n",
       "</div>"
      ],
      "text/plain": [
       "    Country Homicide SexualViolence   Rape SexualAssault    Theft  \\\n",
       "0   Belgium     1.28          84.13  36.85         47.29  1985.09   \n",
       "1  Bulgaria     1.16           8.64   1.87          6.77   473.88   \n",
       "2   Czechia     0.76          14.65   6.41          8.12   561.98   \n",
       "3   Denmark     0.93          84.31  35.33         48.98  2928.71   \n",
       "4   Germany     0.71          49.05  11.53         37.52  1235.04   \n",
       "\n",
       "   Immigration  MIPEX  \n",
       "0         17.2     69  \n",
       "1          2.4     40  \n",
       "2          4.8     50  \n",
       "3         12.5     49  \n",
       "4         15.7     58  "
      ]
     },
     "execution_count": 55,
     "metadata": {},
     "output_type": "execute_result"
    }
   ],
   "source": [
    "#rearrange columns\n",
    "\n",
    "# Step 1: Rename the column (assuming 'old_column_name' is the column you want to rename)\n",
    "merged_europe_df.rename(columns={'Country_standardized': 'Country'}, inplace=True)\n",
    "\n",
    "# Step 2: Rearrange columns to make 'new_column_name' the first column\n",
    "cols = ['Country'] + [col for col in merged_europe_df if col != 'Country']\n",
    "merged_europe_df = merged_europe_df[cols]\n",
    "\n",
    "# Display the updated DataFrame\n",
    "merged_europe_df.head()\n"
   ]
  },
  {
   "cell_type": "code",
   "execution_count": null,
   "id": "d1d797ec",
   "metadata": {},
   "outputs": [
    {
     "name": "stdout",
     "output_type": "stream",
     "text": [
      "    Country  Homicide  SexualViolence   Rape SexualAssault    Theft  \\\n",
      "0   Belgium      1.28           84.13  36.85         47.29  1985.09   \n",
      "1  Bulgaria      1.16            8.64   1.87          6.77   473.88   \n",
      "2   Czechia      0.76           14.65   6.41          8.12   561.98   \n",
      "3   Denmark      0.93           84.31  35.33         48.98  2928.71   \n",
      "4   Germany      0.71           49.05  11.53         37.52  1235.04   \n",
      "\n",
      "   Immigration  MIPEX  \n",
      "0         17.2     69  \n",
      "1          2.4     40  \n",
      "2          4.8     50  \n",
      "3         12.5     49  \n",
      "4         15.7     58  \n"
     ]
    }
   ],
   "source": [
    "# Convert all columns that can be converted to numeric, leaving non-convertible values unchanged\n",
    "merged_europe_df = merged_europe_df.apply(pd.to_numeric, errors='ignore')\n",
    "\n",
    "# Display the updated DataFrame\n",
    "print(merged_europe_df.head())\n"
   ]
  },
  {
   "cell_type": "code",
   "execution_count": null,
   "id": "3de0881a",
   "metadata": {},
   "outputs": [
    {
     "data": {
      "text/plain": [
       "Country            object\n",
       "Homicide          float64\n",
       "SexualViolence    float64\n",
       "Rape               object\n",
       "SexualAssault      object\n",
       "Theft              object\n",
       "Immigration       float64\n",
       "MIPEX               int64\n",
       "dtype: object"
      ]
     },
     "execution_count": 78,
     "metadata": {},
     "output_type": "execute_result"
    }
   ],
   "source": [
    "merged_europe_df.dtypes"
   ]
  },
  {
   "cell_type": "code",
   "execution_count": null,
   "id": "0cf2a7a0",
   "metadata": {},
   "outputs": [
    {
     "data": {
      "text/plain": [
       "0"
      ]
     },
     "execution_count": 70,
     "metadata": {},
     "output_type": "execute_result"
    }
   ],
   "source": [
    "merged_europe_df['Rape'].isnull().sum()"
   ]
  },
  {
   "cell_type": "code",
   "execution_count": null,
   "id": "3d50bd0d",
   "metadata": {},
   "outputs": [
    {
     "data": {
      "text/plain": [
       "0     36.85\n",
       "1      1.87\n",
       "2      6.41\n",
       "3     35.33\n",
       "4     11.53\n",
       "5     15.32\n",
       "6     21.72\n",
       "7       1.7\n",
       "8      3.99\n",
       "9     34.05\n",
       "10    11.58\n",
       "11        :\n",
       "12     8.91\n",
       "13     3.36\n",
       "14     18.9\n",
       "15      3.9\n",
       "16     6.28\n",
       "17    11.89\n",
       "18    18.92\n",
       "19     1.87\n",
       "20     4.19\n",
       "21     8.04\n",
       "22     8.75\n",
       "23     1.78\n",
       "24    27.38\n",
       "25    80.85\n",
       "26    60.23\n",
       "27    41.23\n",
       "28     7.95\n",
       "29     1.69\n",
       "30     2.69\n",
       "31     1.67\n",
       "Name: Rape, dtype: object"
      ]
     },
     "execution_count": 80,
     "metadata": {},
     "output_type": "execute_result"
    }
   ],
   "source": [
    "merged_europe_df['Rape']"
   ]
  },
  {
   "cell_type": "markdown",
   "id": "df0549c7",
   "metadata": {},
   "source": [
    "The problem here is that missing values are shown as \":\". So I need to handle some missing values. I will use the mean to handle them. "
   ]
  },
  {
   "cell_type": "code",
   "execution_count": null,
   "id": "205e1a31",
   "metadata": {},
   "outputs": [
    {
     "name": "stdout",
     "output_type": "stream",
     "text": [
      "    Country  Homicide  SexualViolence   Rape  SexualAssault    Theft  \\\n",
      "0   Belgium      1.28           84.13  36.85          47.29  1985.09   \n",
      "1  Bulgaria      1.16            8.64   1.87           6.77   473.88   \n",
      "2   Czechia      0.76           14.65   6.41           8.12   561.98   \n",
      "3   Denmark      0.93           84.31  35.33          48.98  2928.71   \n",
      "4   Germany      0.71           49.05  11.53          37.52  1235.04   \n",
      "\n",
      "   Immigration  MIPEX Immigration_Level  \n",
      "0         17.2     69              High  \n",
      "1          2.4     40               Low  \n",
      "2          4.8     50               Low  \n",
      "3         12.5     49              High  \n",
      "4         15.7     58              High  \n"
     ]
    }
   ],
   "source": [
    "# Replace \":\" with NaN\n",
    "merged_europe_df.replace(\":\", np.nan, inplace=True)\n",
    "\n",
    "# Impute missing values with the mean of each column\n",
    "df = merged_europe_df.apply(lambda col: col.fillna(col.mean()) if col.dtype in ['float64', 'int64'] else col)\n",
    "\n",
    "# Check the updated DataFrame\n",
    "print(df.head())"
   ]
  },
  {
   "cell_type": "code",
   "execution_count": null,
   "id": "ec638eb1",
   "metadata": {},
   "outputs": [
    {
     "name": "stdout",
     "output_type": "stream",
     "text": [
      "Country               0\n",
      "Homicide              0\n",
      "SexualViolence        0\n",
      "Rape                  1\n",
      "SexualAssault         4\n",
      "Theft                 1\n",
      "Immigration           0\n",
      "MIPEX                 0\n",
      "Immigration_Level    32\n",
      "dtype: int64\n"
     ]
    }
   ],
   "source": [
    "# Ensure \":\" is treated as string and replaced\n",
    "merged_europe_df.replace(\":\", np.nan, inplace=True)\n",
    "# Convert all relevant columns to numeric, coercing errors into NaN\n",
    "for col in merged_europe_df.columns:\n",
    "    if col not in ['Country']:  # skip non-numeric columns like 'Country'\n",
    "        merged_europe_df[col] = pd.to_numeric(merged_europe_df[col], errors='coerce')\n",
    "print(merged_europe_df.isna().sum())\n",
    "# Fill NaNs with column mean for numeric columns\n",
    "merged_europe_df = merged_europe_df.fillna(merged_europe_df.mean(numeric_only=True))\n"
   ]
  },
  {
   "cell_type": "code",
   "execution_count": null,
   "id": "2086786f",
   "metadata": {},
   "outputs": [
    {
     "data": {
      "text/plain": [
       "Country               0\n",
       "Homicide              0\n",
       "SexualViolence        0\n",
       "Rape                  0\n",
       "SexualAssault         0\n",
       "Theft                 0\n",
       "Immigration           0\n",
       "MIPEX                 0\n",
       "Immigration_Level    32\n",
       "dtype: int64"
      ]
     },
     "execution_count": 101,
     "metadata": {},
     "output_type": "execute_result"
    }
   ],
   "source": [
    "df.isnull().sum()"
   ]
  },
  {
   "cell_type": "code",
   "execution_count": null,
   "id": "5ce9f03b",
   "metadata": {},
   "outputs": [
    {
     "data": {
      "text/plain": [
       "0      47.290000\n",
       "1       6.770000\n",
       "2       8.120000\n",
       "3      48.980000\n",
       "4      37.520000\n",
       "5      11.470000\n",
       "6      36.560000\n",
       "7       0.650000\n",
       "8      23.770000\n",
       "9      48.160000\n",
       "10      8.610000\n",
       "11     21.884643\n",
       "12      7.080000\n",
       "13      3.440000\n",
       "14     21.884643\n",
       "15     21.884643\n",
       "16     17.830000\n",
       "17     12.990000\n",
       "18     26.640000\n",
       "19      1.520000\n",
       "20     22.090000\n",
       "21      1.810000\n",
       "22      2.840000\n",
       "23      1.430000\n",
       "24     45.270000\n",
       "25    108.910000\n",
       "26     19.890000\n",
       "27     46.750000\n",
       "28      7.330000\n",
       "29     21.884643\n",
       "30      2.690000\n",
       "31      6.360000\n",
       "Name: SexualAssault, dtype: float64"
      ]
     },
     "execution_count": 103,
     "metadata": {},
     "output_type": "execute_result"
    }
   ],
   "source": [
    "merged_europe_df['SexualAssault']"
   ]
  },
  {
   "cell_type": "code",
   "execution_count": null,
   "id": "babd55c5",
   "metadata": {},
   "outputs": [
    {
     "data": {
      "image/png": "[encoded data removed]",
      "text/plain": [
       "<Figure size 1000x600 with 2 Axes>"
      ]
     },
     "metadata": {},
     "output_type": "display_data"
    }
   ],
   "source": [
    "numerical_data = merged_europe_df[['Homicide', 'SexualViolence', 'Rape', 'SexualAssault', 'Theft', 'Immigration', 'MIPEX']]\n",
    "\n",
    "# Compute the correlation matrix\n",
    "correlation_matrix = numerical_data.corr()\n",
    "\n",
    "# Create a heatmap of the correlation matrix\n",
    "plt.figure(figsize=(10, 6))\n",
    "sns.heatmap(correlation_matrix, annot=True, cmap='coolwarm', fmt='.2f', linewidths=0.5,square=True)\n",
    "plt.title('Correlation Matrix of Crime and Immigration Data')\n",
    "plt.show()"
   ]
  },
  {
   "cell_type": "code",
   "execution_count": null,
   "id": "56e044bc",
   "metadata": {},
   "outputs": [
    {
     "name": "stderr",
     "output_type": "stream",
     "text": [
      "posx and posy should be finite values\n",
      "posx and posy should be finite values\n"
     ]
    },
    {
     "data": {
      "image/png": "[encoded data removed]",
      "text/plain": [
       "<Figure size 800x600 with 1 Axes>"
      ]
     },
     "metadata": {},
     "output_type": "display_data"
    }
   ],
   "source": [
    "# Scatter plot\n",
    "plt.figure(figsize=(8, 6))\n",
    "plt.scatter(merged_europe_df['Immigration'], merged_europe_df['Theft'], color='steelblue', edgecolor='black')\n",
    "\n",
    "# Add labels and title\n",
    "plt.xlabel('Immigration Percentage')\n",
    "plt.ylabel('Theft Crime Rate (per 100,000)')\n",
    "plt.title('Relationship Between Immigration and Theft Crime Rate')\n",
    "\n",
    "# Optional: Add country labels\n",
    "for i, row in merged_europe_df.iterrows():\n",
    "    plt.text(row['Immigration'] + 0.1, row['Theft'] + 0.1, row['Country'], fontsize=8, alpha=0.7)\n",
    "\n",
    "plt.grid(True)\n",
    "plt.tight_layout()\n",
    "plt.show()"
   ]
  },
  {
   "cell_type": "code",
   "execution_count": null,
   "id": "0e3d1b0c",
   "metadata": {},
   "outputs": [
    {
     "name": "stdout",
     "output_type": "stream",
     "text": [
      "            Country  Immigration Immigration_Level\n",
      "0           Belgium         17.2              High\n",
      "1          Bulgaria          2.4               Low\n",
      "2           Czechia          4.8               Low\n",
      "3           Denmark         12.5              High\n",
      "4           Germany         15.7              High\n",
      "5           Estonia         14.4              High\n",
      "6           Ireland         17.1              High\n",
      "7            Greece         11.6               Low\n",
      "8             Spain         13.1              High\n",
      "9            France         12.8              High\n",
      "10          Croatia         12.5              High\n",
      "11            Italy         10.4               Low\n",
      "12           Latvia         12.4               Low\n",
      "13        Lithuania          4.2               Low\n",
      "14       Luxembourg         47.4              High\n",
      "15          Hungary          5.3               Low\n",
      "16            Malta         19.3              High\n",
      "17      Netherlands         13.4              High\n",
      "18          Austria         19.9              High\n",
      "19           Poland          1.7               Low\n",
      "20         Portugal          8.7               Low\n",
      "21          Romania          2.4               Low\n",
      "22         Slovenia         12.2               Low\n",
      "23         Slovakia          3.4               Low\n",
      "24          Finland          6.9               Low\n",
      "25           Sweden         20.0              High\n",
      "26          Iceland         15.5              High\n",
      "27           Norway         16.1              High\n",
      "28      Switzerland         29.9              High\n",
      "29  North Macedonia          6.3               Low\n",
      "30          Albania          1.7               Low\n",
      "31           Serbia          9.4               Low\n"
     ]
    }
   ],
   "source": [
    "# Calculate the median immigration value\n",
    "median_immigration = merged_europe_df['Immigration'].median()\n",
    "\n",
    "# Create a new column categorizing immigration as 'Low' or 'High'\n",
    "merged_europe_df['Immigration_Level'] = merged_europe_df['Immigration'].apply(\n",
    "    lambda x: 'Low' if x < median_immigration else 'High'\n",
    ")\n",
    "\n",
    "# Check the result\n",
    "print(merged_europe_df[['Country', 'Immigration', 'Immigration_Level']].head(40))"
   ]
  },
  {
   "cell_type": "code",
   "execution_count": null,
   "id": "a6e75143",
   "metadata": {},
   "outputs": [
    {
     "data": {
      "text/plain": [
       "Country              0\n",
       "Homicide             0\n",
       "SexualViolence       0\n",
       "Rape                 0\n",
       "SexualAssault        0\n",
       "Theft                0\n",
       "Immigration          0\n",
       "MIPEX                0\n",
       "Immigration_Level    0\n",
       "dtype: int64"
      ]
     },
     "execution_count": 108,
     "metadata": {},
     "output_type": "execute_result"
    }
   ],
   "source": [
    "merged_europe_df.isnull().sum()"
   ]
  },
  {
   "cell_type": "code",
   "execution_count": null,
   "id": "b895bfda",
   "metadata": {},
   "outputs": [
    {
     "name": "stdout",
     "output_type": "stream",
     "text": [
      "T-statistic: -3.044028159951456\n",
      "P-value: 0.004823368470729481\n",
      "Reject the null hypothesis: There is a significant difference in theft rates between low and high immigration countries.\n"
     ]
    }
   ],
   "source": [
    "from scipy.stats import ttest_ind\n",
    "\n",
    "# Divide the groups\n",
    "low_immigration = merged_europe_df[merged_europe_df['Immigration_Level'] == 'Low']['Theft']\n",
    "high_immigration = merged_europe_df[merged_europe_df['Immigration_Level'] == 'High']['Theft']\n",
    "\n",
    "# Perform the t-test\n",
    "t_stat, p_value = ttest_ind(low_immigration, high_immigration)\n",
    "\n",
    "print(\"T-statistic:\", t_stat)\n",
    "print(\"P-value:\", p_value)\n",
    "\n",
    "# Interpret the result\n",
    "alpha = 0.05\n",
    "if p_value < alpha:\n",
    "    print(\"Reject the null hypothesis: There is a significant difference in theft rates between low and high immigration countries.\")\n",
    "else:\n",
    "    print(\"Fail to reject the null hypothesis: No significant difference in theft rates between the two groups.\")\n"
   ]
  }
 ],
 "metadata": {
  "kernelspec": {
   "display_name": "base",
   "language": "python",
   "name": "python3"
  },
  "language_info": {
   "codemirror_mode": {
    "name": "ipython",
    "version": 3
   },
   "file_extension": ".py",
   "mimetype": "text/x-python",
   "name": "python",
   "nbconvert_exporter": "python",
   "pygments_lexer": "ipython3",
   "version": "3.10.9"
  }
 },
 "nbformat": 4,
 "nbformat_minor": 5
}
